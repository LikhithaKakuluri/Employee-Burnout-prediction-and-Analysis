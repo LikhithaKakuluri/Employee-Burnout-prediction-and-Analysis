{
 "cells": [
  {
   "cell_type": "markdown",
   "id": "049fe25a",
   "metadata": {},
   "source": [
    "# Importing the Dependencies"
   ]
  },
  {
   "cell_type": "code",
   "execution_count": 1,
   "id": "a61897f9",
   "metadata": {},
   "outputs": [],
   "source": [
    "import pandas as pd\n",
    "import numpy as np\n",
    "from sklearn.model_selection import train_test_split\n",
    "from sklearn import metrics\n",
    "import seaborn as sns\n",
    "import matplotlib.pyplot as plt"
   ]
  },
  {
   "cell_type": "markdown",
   "id": "66afef12",
   "metadata": {},
   "source": [
    "# Data Collection and Analysis"
   ]
  },
  {
   "cell_type": "code",
   "execution_count": 2,
   "id": "ec51ab3a",
   "metadata": {},
   "outputs": [
    {
     "data": {
      "text/html": [
       "<div>\n",
       "<style scoped>\n",
       "    .dataframe tbody tr th:only-of-type {\n",
       "        vertical-align: middle;\n",
       "    }\n",
       "\n",
       "    .dataframe tbody tr th {\n",
       "        vertical-align: top;\n",
       "    }\n",
       "\n",
       "    .dataframe thead th {\n",
       "        text-align: right;\n",
       "    }\n",
       "</style>\n",
       "<table border=\"1\" class=\"dataframe\">\n",
       "  <thead>\n",
       "    <tr style=\"text-align: right;\">\n",
       "      <th></th>\n",
       "      <th>Employee ID</th>\n",
       "      <th>Date of Joining</th>\n",
       "      <th>Gender</th>\n",
       "      <th>Company_Type</th>\n",
       "      <th>WFH_Setup_Available</th>\n",
       "      <th>Designation</th>\n",
       "      <th>Resource_Allocation</th>\n",
       "      <th>Mental_Fatigue_Score</th>\n",
       "      <th>Burn_Rate</th>\n",
       "    </tr>\n",
       "  </thead>\n",
       "  <tbody>\n",
       "    <tr>\n",
       "      <th>0</th>\n",
       "      <td>fffe32003000360033003200</td>\n",
       "      <td>2008-09-30</td>\n",
       "      <td>Female</td>\n",
       "      <td>Service</td>\n",
       "      <td>No</td>\n",
       "      <td>2.0</td>\n",
       "      <td>3.0</td>\n",
       "      <td>3.8</td>\n",
       "      <td>0.16</td>\n",
       "    </tr>\n",
       "    <tr>\n",
       "      <th>1</th>\n",
       "      <td>fffe3700360033003500</td>\n",
       "      <td>2008-11-30</td>\n",
       "      <td>Male</td>\n",
       "      <td>Service</td>\n",
       "      <td>Yes</td>\n",
       "      <td>1.0</td>\n",
       "      <td>2.0</td>\n",
       "      <td>5.0</td>\n",
       "      <td>0.36</td>\n",
       "    </tr>\n",
       "    <tr>\n",
       "      <th>2</th>\n",
       "      <td>fffe31003300320037003900</td>\n",
       "      <td>2008-03-10</td>\n",
       "      <td>Female</td>\n",
       "      <td>Product</td>\n",
       "      <td>Yes</td>\n",
       "      <td>2.0</td>\n",
       "      <td>NaN</td>\n",
       "      <td>5.8</td>\n",
       "      <td>0.49</td>\n",
       "    </tr>\n",
       "    <tr>\n",
       "      <th>3</th>\n",
       "      <td>fffe32003400380032003900</td>\n",
       "      <td>2008-11-03</td>\n",
       "      <td>Male</td>\n",
       "      <td>Service</td>\n",
       "      <td>Yes</td>\n",
       "      <td>1.0</td>\n",
       "      <td>1.0</td>\n",
       "      <td>2.6</td>\n",
       "      <td>0.20</td>\n",
       "    </tr>\n",
       "    <tr>\n",
       "      <th>4</th>\n",
       "      <td>fffe31003900340031003600</td>\n",
       "      <td>2008-07-24</td>\n",
       "      <td>Female</td>\n",
       "      <td>Service</td>\n",
       "      <td>No</td>\n",
       "      <td>3.0</td>\n",
       "      <td>7.0</td>\n",
       "      <td>6.9</td>\n",
       "      <td>0.52</td>\n",
       "    </tr>\n",
       "  </tbody>\n",
       "</table>\n",
       "</div>"
      ],
      "text/plain": [
       "                Employee ID Date of Joining  Gender Company_Type  \\\n",
       "0  fffe32003000360033003200      2008-09-30  Female      Service   \n",
       "1      fffe3700360033003500      2008-11-30    Male      Service   \n",
       "2  fffe31003300320037003900      2008-03-10  Female      Product   \n",
       "3  fffe32003400380032003900      2008-11-03    Male      Service   \n",
       "4  fffe31003900340031003600      2008-07-24  Female      Service   \n",
       "\n",
       "  WFH_Setup_Available  Designation  Resource_Allocation  Mental_Fatigue_Score  \\\n",
       "0                  No          2.0                  3.0                   3.8   \n",
       "1                 Yes          1.0                  2.0                   5.0   \n",
       "2                 Yes          2.0                  NaN                   5.8   \n",
       "3                 Yes          1.0                  1.0                   2.6   \n",
       "4                  No          3.0                  7.0                   6.9   \n",
       "\n",
       "   Burn_Rate  \n",
       "0       0.16  \n",
       "1       0.36  \n",
       "2       0.49  \n",
       "3       0.20  \n",
       "4       0.52  "
      ]
     },
     "execution_count": 2,
     "metadata": {},
     "output_type": "execute_result"
    }
   ],
   "source": [
    "df=pd.read_csv(\"burnoutdata.csv\")\n",
    "df.head()"
   ]
  },
  {
   "cell_type": "code",
   "execution_count": 3,
   "id": "4d4c2dba",
   "metadata": {},
   "outputs": [
    {
     "data": {
      "text/plain": [
       "(22750, 9)"
      ]
     },
     "execution_count": 3,
     "metadata": {},
     "output_type": "execute_result"
    }
   ],
   "source": [
    "#shape of the data\n",
    "df.shape"
   ]
  },
  {
   "cell_type": "code",
   "execution_count": 4,
   "id": "12c1ea48",
   "metadata": {},
   "outputs": [
    {
     "name": "stdout",
     "output_type": "stream",
     "text": [
      "<class 'pandas.core.frame.DataFrame'>\n",
      "RangeIndex: 22750 entries, 0 to 22749\n",
      "Data columns (total 9 columns):\n",
      " #   Column                Non-Null Count  Dtype  \n",
      "---  ------                --------------  -----  \n",
      " 0   Employee ID           22750 non-null  object \n",
      " 1   Date of Joining       22750 non-null  object \n",
      " 2   Gender                22750 non-null  object \n",
      " 3   Company_Type          22750 non-null  object \n",
      " 4   WFH_Setup_Available   22750 non-null  object \n",
      " 5   Designation           22750 non-null  float64\n",
      " 6   Resource_Allocation   21369 non-null  float64\n",
      " 7   Mental_Fatigue_Score  20633 non-null  float64\n",
      " 8   Burn_Rate             21626 non-null  float64\n",
      "dtypes: float64(4), object(5)\n",
      "memory usage: 1.6+ MB\n"
     ]
    }
   ],
   "source": [
    "#some more info regarding the data\n",
    "df.info()"
   ]
  },
  {
   "cell_type": "code",
   "execution_count": 5,
   "id": "7a7dbe0e",
   "metadata": {},
   "outputs": [
    {
     "data": {
      "text/html": [
       "<div>\n",
       "<style scoped>\n",
       "    .dataframe tbody tr th:only-of-type {\n",
       "        vertical-align: middle;\n",
       "    }\n",
       "\n",
       "    .dataframe tbody tr th {\n",
       "        vertical-align: top;\n",
       "    }\n",
       "\n",
       "    .dataframe thead th {\n",
       "        text-align: right;\n",
       "    }\n",
       "</style>\n",
       "<table border=\"1\" class=\"dataframe\">\n",
       "  <thead>\n",
       "    <tr style=\"text-align: right;\">\n",
       "      <th></th>\n",
       "      <th>Employee ID</th>\n",
       "      <th>Date of Joining</th>\n",
       "      <th>Gender</th>\n",
       "      <th>Company_Type</th>\n",
       "      <th>WFH_Setup_Available</th>\n",
       "      <th>Designation</th>\n",
       "      <th>Resource_Allocation</th>\n",
       "      <th>Mental_Fatigue_Score</th>\n",
       "      <th>Burn_Rate</th>\n",
       "    </tr>\n",
       "  </thead>\n",
       "  <tbody>\n",
       "    <tr>\n",
       "      <th>0</th>\n",
       "      <td>fffe32003000360033003200</td>\n",
       "      <td>2008-09-30</td>\n",
       "      <td>Female</td>\n",
       "      <td>Service</td>\n",
       "      <td>No</td>\n",
       "      <td>2.0</td>\n",
       "      <td>3.0</td>\n",
       "      <td>3.8</td>\n",
       "      <td>0.16</td>\n",
       "    </tr>\n",
       "    <tr>\n",
       "      <th>1</th>\n",
       "      <td>fffe3700360033003500</td>\n",
       "      <td>2008-11-30</td>\n",
       "      <td>Male</td>\n",
       "      <td>Service</td>\n",
       "      <td>Yes</td>\n",
       "      <td>1.0</td>\n",
       "      <td>2.0</td>\n",
       "      <td>5.0</td>\n",
       "      <td>0.36</td>\n",
       "    </tr>\n",
       "    <tr>\n",
       "      <th>2</th>\n",
       "      <td>fffe31003300320037003900</td>\n",
       "      <td>2008-03-10</td>\n",
       "      <td>Female</td>\n",
       "      <td>Product</td>\n",
       "      <td>Yes</td>\n",
       "      <td>2.0</td>\n",
       "      <td>NaN</td>\n",
       "      <td>5.8</td>\n",
       "      <td>0.49</td>\n",
       "    </tr>\n",
       "    <tr>\n",
       "      <th>3</th>\n",
       "      <td>fffe32003400380032003900</td>\n",
       "      <td>2008-11-03</td>\n",
       "      <td>Male</td>\n",
       "      <td>Service</td>\n",
       "      <td>Yes</td>\n",
       "      <td>1.0</td>\n",
       "      <td>1.0</td>\n",
       "      <td>2.6</td>\n",
       "      <td>0.20</td>\n",
       "    </tr>\n",
       "    <tr>\n",
       "      <th>4</th>\n",
       "      <td>fffe31003900340031003600</td>\n",
       "      <td>2008-07-24</td>\n",
       "      <td>Female</td>\n",
       "      <td>Service</td>\n",
       "      <td>No</td>\n",
       "      <td>3.0</td>\n",
       "      <td>7.0</td>\n",
       "      <td>6.9</td>\n",
       "      <td>0.52</td>\n",
       "    </tr>\n",
       "    <tr>\n",
       "      <th>...</th>\n",
       "      <td>...</td>\n",
       "      <td>...</td>\n",
       "      <td>...</td>\n",
       "      <td>...</td>\n",
       "      <td>...</td>\n",
       "      <td>...</td>\n",
       "      <td>...</td>\n",
       "      <td>...</td>\n",
       "      <td>...</td>\n",
       "    </tr>\n",
       "    <tr>\n",
       "      <th>22745</th>\n",
       "      <td>fffe31003500370039003100</td>\n",
       "      <td>2008-12-30</td>\n",
       "      <td>Female</td>\n",
       "      <td>Service</td>\n",
       "      <td>No</td>\n",
       "      <td>1.0</td>\n",
       "      <td>3.0</td>\n",
       "      <td>NaN</td>\n",
       "      <td>0.41</td>\n",
       "    </tr>\n",
       "    <tr>\n",
       "      <th>22746</th>\n",
       "      <td>fffe33003000350031003800</td>\n",
       "      <td>2008-01-19</td>\n",
       "      <td>Female</td>\n",
       "      <td>Product</td>\n",
       "      <td>Yes</td>\n",
       "      <td>3.0</td>\n",
       "      <td>6.0</td>\n",
       "      <td>6.7</td>\n",
       "      <td>0.59</td>\n",
       "    </tr>\n",
       "    <tr>\n",
       "      <th>22747</th>\n",
       "      <td>fffe390032003000</td>\n",
       "      <td>2008-11-05</td>\n",
       "      <td>Male</td>\n",
       "      <td>Service</td>\n",
       "      <td>Yes</td>\n",
       "      <td>3.0</td>\n",
       "      <td>7.0</td>\n",
       "      <td>NaN</td>\n",
       "      <td>0.72</td>\n",
       "    </tr>\n",
       "    <tr>\n",
       "      <th>22748</th>\n",
       "      <td>fffe33003300320036003900</td>\n",
       "      <td>2008-01-10</td>\n",
       "      <td>Female</td>\n",
       "      <td>Service</td>\n",
       "      <td>No</td>\n",
       "      <td>2.0</td>\n",
       "      <td>5.0</td>\n",
       "      <td>5.9</td>\n",
       "      <td>0.52</td>\n",
       "    </tr>\n",
       "    <tr>\n",
       "      <th>22749</th>\n",
       "      <td>fffe3400350031003800</td>\n",
       "      <td>2008-01-06</td>\n",
       "      <td>Male</td>\n",
       "      <td>Product</td>\n",
       "      <td>No</td>\n",
       "      <td>3.0</td>\n",
       "      <td>6.0</td>\n",
       "      <td>7.8</td>\n",
       "      <td>0.61</td>\n",
       "    </tr>\n",
       "  </tbody>\n",
       "</table>\n",
       "<p>22750 rows × 9 columns</p>\n",
       "</div>"
      ],
      "text/plain": [
       "                    Employee ID Date of Joining  Gender Company_Type  \\\n",
       "0      fffe32003000360033003200      2008-09-30  Female      Service   \n",
       "1          fffe3700360033003500      2008-11-30    Male      Service   \n",
       "2      fffe31003300320037003900      2008-03-10  Female      Product   \n",
       "3      fffe32003400380032003900      2008-11-03    Male      Service   \n",
       "4      fffe31003900340031003600      2008-07-24  Female      Service   \n",
       "...                         ...             ...     ...          ...   \n",
       "22745  fffe31003500370039003100      2008-12-30  Female      Service   \n",
       "22746  fffe33003000350031003800      2008-01-19  Female      Product   \n",
       "22747          fffe390032003000      2008-11-05    Male      Service   \n",
       "22748  fffe33003300320036003900      2008-01-10  Female      Service   \n",
       "22749      fffe3400350031003800      2008-01-06    Male      Product   \n",
       "\n",
       "      WFH_Setup_Available  Designation  Resource_Allocation  \\\n",
       "0                      No          2.0                  3.0   \n",
       "1                     Yes          1.0                  2.0   \n",
       "2                     Yes          2.0                  NaN   \n",
       "3                     Yes          1.0                  1.0   \n",
       "4                      No          3.0                  7.0   \n",
       "...                   ...          ...                  ...   \n",
       "22745                  No          1.0                  3.0   \n",
       "22746                 Yes          3.0                  6.0   \n",
       "22747                 Yes          3.0                  7.0   \n",
       "22748                  No          2.0                  5.0   \n",
       "22749                  No          3.0                  6.0   \n",
       "\n",
       "       Mental_Fatigue_Score  Burn_Rate  \n",
       "0                       3.8       0.16  \n",
       "1                       5.0       0.36  \n",
       "2                       5.8       0.49  \n",
       "3                       2.6       0.20  \n",
       "4                       6.9       0.52  \n",
       "...                     ...        ...  \n",
       "22745                   NaN       0.41  \n",
       "22746                   6.7       0.59  \n",
       "22747                   NaN       0.72  \n",
       "22748                   5.9       0.52  \n",
       "22749                   7.8       0.61  \n",
       "\n",
       "[22750 rows x 9 columns]"
      ]
     },
     "execution_count": 5,
     "metadata": {},
     "output_type": "execute_result"
    }
   ],
   "source": [
    "#converting the date time \n",
    "df['Date of Joining']=pd.to_datetime(df['Date of Joining'])\n",
    "df"
   ]
  },
  {
   "cell_type": "code",
   "execution_count": 6,
   "id": "b01259b4",
   "metadata": {},
   "outputs": [
    {
     "data": {
      "text/plain": [
       "Employee ID                0\n",
       "Date of Joining            0\n",
       "Gender                     0\n",
       "Company_Type               0\n",
       "WFH_Setup_Available        0\n",
       "Designation                0\n",
       "Resource_Allocation     1381\n",
       "Mental_Fatigue_Score    2117\n",
       "Burn_Rate               1124\n",
       "dtype: int64"
      ]
     },
     "execution_count": 6,
     "metadata": {},
     "output_type": "execute_result"
    }
   ],
   "source": [
    "#checking missing values\n",
    "df.isnull().sum()"
   ]
  },
  {
   "cell_type": "code",
   "execution_count": 7,
   "id": "916a65e3",
   "metadata": {},
   "outputs": [
    {
     "data": {
      "text/html": [
       "<div>\n",
       "<style scoped>\n",
       "    .dataframe tbody tr th:only-of-type {\n",
       "        vertical-align: middle;\n",
       "    }\n",
       "\n",
       "    .dataframe tbody tr th {\n",
       "        vertical-align: top;\n",
       "    }\n",
       "\n",
       "    .dataframe thead th {\n",
       "        text-align: right;\n",
       "    }\n",
       "</style>\n",
       "<table border=\"1\" class=\"dataframe\">\n",
       "  <thead>\n",
       "    <tr style=\"text-align: right;\">\n",
       "      <th></th>\n",
       "      <th>Designation</th>\n",
       "      <th>Resource_Allocation</th>\n",
       "      <th>Mental_Fatigue_Score</th>\n",
       "      <th>Burn_Rate</th>\n",
       "    </tr>\n",
       "  </thead>\n",
       "  <tbody>\n",
       "    <tr>\n",
       "      <th>count</th>\n",
       "      <td>22750.000000</td>\n",
       "      <td>21369.000000</td>\n",
       "      <td>20633.000000</td>\n",
       "      <td>21626.000000</td>\n",
       "    </tr>\n",
       "    <tr>\n",
       "      <th>mean</th>\n",
       "      <td>2.178725</td>\n",
       "      <td>4.481398</td>\n",
       "      <td>5.728188</td>\n",
       "      <td>0.452005</td>\n",
       "    </tr>\n",
       "    <tr>\n",
       "      <th>std</th>\n",
       "      <td>1.135145</td>\n",
       "      <td>2.047211</td>\n",
       "      <td>1.920839</td>\n",
       "      <td>0.198226</td>\n",
       "    </tr>\n",
       "    <tr>\n",
       "      <th>min</th>\n",
       "      <td>0.000000</td>\n",
       "      <td>1.000000</td>\n",
       "      <td>0.000000</td>\n",
       "      <td>0.000000</td>\n",
       "    </tr>\n",
       "    <tr>\n",
       "      <th>25%</th>\n",
       "      <td>1.000000</td>\n",
       "      <td>3.000000</td>\n",
       "      <td>4.600000</td>\n",
       "      <td>0.310000</td>\n",
       "    </tr>\n",
       "    <tr>\n",
       "      <th>50%</th>\n",
       "      <td>2.000000</td>\n",
       "      <td>4.000000</td>\n",
       "      <td>5.900000</td>\n",
       "      <td>0.450000</td>\n",
       "    </tr>\n",
       "    <tr>\n",
       "      <th>75%</th>\n",
       "      <td>3.000000</td>\n",
       "      <td>6.000000</td>\n",
       "      <td>7.100000</td>\n",
       "      <td>0.590000</td>\n",
       "    </tr>\n",
       "    <tr>\n",
       "      <th>max</th>\n",
       "      <td>5.000000</td>\n",
       "      <td>10.000000</td>\n",
       "      <td>10.000000</td>\n",
       "      <td>1.000000</td>\n",
       "    </tr>\n",
       "  </tbody>\n",
       "</table>\n",
       "</div>"
      ],
      "text/plain": [
       "        Designation  Resource_Allocation  Mental_Fatigue_Score     Burn_Rate\n",
       "count  22750.000000         21369.000000          20633.000000  21626.000000\n",
       "mean       2.178725             4.481398              5.728188      0.452005\n",
       "std        1.135145             2.047211              1.920839      0.198226\n",
       "min        0.000000             1.000000              0.000000      0.000000\n",
       "25%        1.000000             3.000000              4.600000      0.310000\n",
       "50%        2.000000             4.000000              5.900000      0.450000\n",
       "75%        3.000000             6.000000              7.100000      0.590000\n",
       "max        5.000000            10.000000             10.000000      1.000000"
      ]
     },
     "execution_count": 7,
     "metadata": {},
     "output_type": "execute_result"
    }
   ],
   "source": [
    "#getting statistical measures  of data\n",
    "df.describe()"
   ]
  },
  {
   "cell_type": "code",
   "execution_count": 8,
   "id": "7bd84619",
   "metadata": {},
   "outputs": [
    {
     "data": {
      "text/plain": [
       "Female    11908\n",
       "Male      10842\n",
       "Name: Gender, dtype: int64"
      ]
     },
     "execution_count": 8,
     "metadata": {},
     "output_type": "execute_result"
    }
   ],
   "source": [
    "df['Gender'].value_counts()"
   ]
  },
  {
   "cell_type": "code",
   "execution_count": 9,
   "id": "947ee180",
   "metadata": {},
   "outputs": [
    {
     "data": {
      "text/plain": [
       "Service    14833\n",
       "Product     7917\n",
       "Name: Company_Type, dtype: int64"
      ]
     },
     "execution_count": 9,
     "metadata": {},
     "output_type": "execute_result"
    }
   ],
   "source": [
    "df['Company_Type'].value_counts()"
   ]
  },
  {
   "cell_type": "code",
   "execution_count": 11,
   "id": "74ce50f7",
   "metadata": {},
   "outputs": [
    {
     "data": {
      "text/plain": [
       "Yes    12290\n",
       "No     10460\n",
       "Name: WFH_Setup_Available, dtype: int64"
      ]
     },
     "execution_count": 11,
     "metadata": {},
     "output_type": "execute_result"
    }
   ],
   "source": [
    "df['WFH_Setup_Available'].value_counts()"
   ]
  },
  {
   "cell_type": "code",
   "execution_count": 12,
   "id": "b01cbe21",
   "metadata": {},
   "outputs": [
    {
     "data": {
      "text/plain": [
       "2.0    7588\n",
       "3.0    5985\n",
       "1.0    4881\n",
       "4.0    2391\n",
       "0.0    1507\n",
       "5.0     398\n",
       "Name: Designation, dtype: int64"
      ]
     },
     "execution_count": 12,
     "metadata": {},
     "output_type": "execute_result"
    }
   ],
   "source": [
    "df['Designation'].value_counts()"
   ]
  },
  {
   "cell_type": "code",
   "execution_count": 13,
   "id": "405327df",
   "metadata": {},
   "outputs": [
    {
     "data": {
      "text/plain": [
       "4.0     3893\n",
       "5.0     3861\n",
       "3.0     3192\n",
       "6.0     2943\n",
       "2.0     2075\n",
       "7.0     1965\n",
       "1.0     1791\n",
       "8.0     1044\n",
       "9.0      446\n",
       "10.0     159\n",
       "Name: Resource_Allocation, dtype: int64"
      ]
     },
     "execution_count": 13,
     "metadata": {},
     "output_type": "execute_result"
    }
   ],
   "source": [
    "df['Resource_Allocation'].value_counts()"
   ]
  },
  {
   "cell_type": "code",
   "execution_count": 14,
   "id": "7ce2397e",
   "metadata": {},
   "outputs": [
    {
     "data": {
      "text/plain": [
       "6.0    470\n",
       "5.8    464\n",
       "5.9    458\n",
       "6.1    457\n",
       "6.3    454\n",
       "      ... \n",
       "0.5     24\n",
       "0.2     23\n",
       "0.4     19\n",
       "0.1     17\n",
       "0.3     13\n",
       "Name: Mental_Fatigue_Score, Length: 101, dtype: int64"
      ]
     },
     "execution_count": 14,
     "metadata": {},
     "output_type": "execute_result"
    }
   ],
   "source": [
    "df['Mental_Fatigue_Score'].value_counts()"
   ]
  },
  {
   "cell_type": "code",
   "execution_count": 16,
   "id": "dedbabb4",
   "metadata": {},
   "outputs": [],
   "source": [
    "#Filling the missing values\n",
    "df['Resource_Allocation'].fillna(df['Resource_Allocation'].mean(),inplace=True)\n",
    "df['Mental_Fatigue_Score'].fillna(df['Mental_Fatigue_Score'].mean(),inplace=True)\n",
    "df['Burn_Rate'].fillna(df['Burn_Rate'].mean(),inplace=True)\n"
   ]
  },
  {
   "cell_type": "code",
   "execution_count": 17,
   "id": "73d16656",
   "metadata": {},
   "outputs": [
    {
     "data": {
      "text/plain": [
       "Employee ID             0\n",
       "Date of Joining         0\n",
       "Gender                  0\n",
       "Company_Type            0\n",
       "WFH_Setup_Available     0\n",
       "Designation             0\n",
       "Resource_Allocation     0\n",
       "Mental_Fatigue_Score    0\n",
       "Burn_Rate               0\n",
       "dtype: int64"
      ]
     },
     "execution_count": 17,
     "metadata": {},
     "output_type": "execute_result"
    }
   ],
   "source": [
    "df.isnull().sum()"
   ]
  },
  {
   "cell_type": "markdown",
   "id": "71811c41",
   "metadata": {},
   "source": [
    "# Data Visualization"
   ]
  },
  {
   "cell_type": "markdown",
   "id": "ec9e83d7",
   "metadata": {},
   "source": [
    "Palette\n",
    "\n",
    "\n",
    "supported values are 'Accent', 'Accent_r', 'Blues', 'Blues_r', 'BrBG', 'BrBG_r', 'BuGn', 'BuGn_r', 'BuPu', 'BuPu_r', 'CMRmap', 'CMRmap_r', 'Dark2', 'Dark2_r', 'GnBu', 'GnBu_r', 'Greens', 'Greens_r', 'Greys', 'Greys_r', 'OrRd', 'OrRd_r', 'Oranges', 'Oranges_r', 'PRGn', 'PRGn_r', 'Paired', 'Paired_r', 'Pastel1', 'Pastel1_r', 'Pastel2', 'Pastel2_r', 'PiYG', 'PiYG_r', 'PuBu', 'PuBuGn', 'PuBuGn_r', 'PuBu_r', 'PuOr', 'PuOr_r', 'PuRd', 'PuRd_r', 'Purples', 'Purples_r', 'RdBu', 'RdBu_r', 'RdGy', 'RdGy_r', 'RdPu', 'RdPu_r', 'RdYlBu', 'RdYlBu_r', 'RdYlGn', 'RdYlGn_r', 'Reds', 'Reds_r', 'Set1', 'Set1_r', 'Set2', 'Set2_r', 'Set3', 'Set3_r', 'Spectral', 'Spectral_r', 'Wistia', 'Wistia_r', 'YlGn', 'YlGnBu', 'YlGnBu_r', 'YlGn_r', 'YlOrBr', 'YlOrBr_r', 'YlOrRd', 'YlOrRd_r', 'afmhot', 'afmhot_r', 'autumn', 'autumn_r', 'binary', 'binary_r', 'bone', 'bone_r', 'brg', 'brg_r', 'bwr', 'bwr_r', 'cividis', 'cividis_r', 'cool', 'cool_r', 'coolwarm', 'coolwarm_r', 'copper', 'copper_r', 'crest', 'crest_r', 'cubehelix', 'cubehelix_r', 'flag', 'flag_r', 'flare', 'flare_r', 'gist_earth', 'gist_earth_r', 'gist_gray', 'gist_gray_r', 'gist_heat', 'gist_heat_r', 'gist_ncar', 'gist_ncar_r', 'gist_rainbow', 'gist_rainbow_r', 'gist_stern', 'gist_stern_r', 'gist_yarg', 'gist_yarg_r', 'gnuplot', 'gnuplot2', 'gnuplot2_r', 'gnuplot_r', 'gray', 'gray_r', 'hot', 'hot_r', 'hsv', 'hsv_r', 'icefire', 'icefire_r', 'inferno', 'inferno_r', 'jet', 'jet_r', 'magma', 'magma_r', 'mako', 'mako_r', 'nipy_spectral', 'nipy_spectral_r', 'ocean', 'ocean_r', 'pink', 'pink_r', 'plasma', 'plasma_r', 'prism', 'prism_r', 'rainbow', 'rainbow_r', 'rocket', 'rocket_r', 'seismic', 'seismic_r', 'spring', 'spring_r', 'summer', 'summer_r', 'tab10', 'tab10_r', 'tab20', 'tab20_r', 'tab20b', 'tab20b_r', 'tab20c', 'tab20c_r', 'terrain', 'terrain_r', 'turbo', 'turbo_r', 'twilight', 'twilight_r', 'twilight_shifted', 'twilight_shifted_r', 'viridis', 'viridis_r', 'vlag', 'vlag_r', 'winter', 'winter_r'\n"
   ]
  },
  {
   "cell_type": "code",
   "execution_count": 18,
   "id": "7f6375bb",
   "metadata": {},
   "outputs": [
    {
     "data": {
      "image/png": "[encoded data removed]",
      "text/plain": [
       "<Figure size 576x432 with 1 Axes>"
      ]
     },
     "metadata": {
      "needs_background": "light"
     },
     "output_type": "display_data"
    }
   ],
   "source": [
    "plt.figure(figsize=(8,6))\n",
    "sns.countplot(x='Gender',data=df,palette='magma')\n",
    "plt.title(\"plot distribution of Gender\")\n",
    "plt.show()"
   ]
  },
  {
   "cell_type": "code",
   "execution_count": 19,
   "id": "0500c223",
   "metadata": {},
   "outputs": [
    {
     "data": {
      "image/png": "[encoded data removed]",
      "text/plain": [
       "<Figure size 576x432 with 1 Axes>"
      ]
     },
     "metadata": {
      "needs_background": "light"
     },
     "output_type": "display_data"
    }
   ],
   "source": [
    "plt.figure(figsize=(8,6))\n",
    "sns.countplot(x='Company_Type',data=df,palette='RdBu')\n",
    "plt.title(\"plot distribution of Company Type\")\n",
    "plt.show()"
   ]
  },
  {
   "cell_type": "code",
   "execution_count": 20,
   "id": "7e4d375d",
   "metadata": {},
   "outputs": [
    {
     "data": {
      "image/png": "[encoded data removed]",
      "text/plain": [
       "<Figure size 576x432 with 1 Axes>"
      ]
     },
     "metadata": {
      "needs_background": "light"
     },
     "output_type": "display_data"
    }
   ],
   "source": [
    "plt.figure(figsize=(8,6))\n",
    "sns.countplot(x='WFH_Setup_Available',data=df,palette='RdBu')\n",
    "plt.title(\"plot distribution of WFH Setup Available\")\n",
    "plt.show()"
   ]
  },
  {
   "cell_type": "code",
   "execution_count": 21,
   "id": "d38b0d29",
   "metadata": {},
   "outputs": [
    {
     "name": "stdout",
     "output_type": "stream",
     "text": [
      "count    22750.000000\n",
      "mean         2.178725\n",
      "std          1.135145\n",
      "min          0.000000\n",
      "25%          1.000000\n",
      "50%          2.000000\n",
      "75%          3.000000\n",
      "max          5.000000\n",
      "Name: Designation, dtype: float64\n"
     ]
    },
    {
     "data": {
      "image/png": "[encoded data removed]",
      "text/plain": [
       "<Figure size 576x360 with 1 Axes>"
      ]
     },
     "metadata": {
      "needs_background": "light"
     },
     "output_type": "display_data"
    }
   ],
   "source": [
    "# Select the numerical column to analyze\n",
    "numerical_column = \"Designation\"  \n",
    "\n",
    "# Descriptive statistics\n",
    "print(df[numerical_column].describe())\n",
    "\n",
    "# Histogram\n",
    "plt.figure(figsize=(8,5))\n",
    "sns.histplot(data=df, x=numerical_column, kde=True)\n",
    "plt.title(\"Histogram of \" + numerical_column)\n",
    "plt.xlabel(numerical_column)\n",
    "plt.ylabel(\"Frequency\")\n",
    "plt.show()\n"
   ]
  },
  {
   "cell_type": "code",
   "execution_count": 22,
   "id": "7736f8de",
   "metadata": {},
   "outputs": [
    {
     "name": "stdout",
     "output_type": "stream",
     "text": [
      "count    22750.000000\n",
      "mean         4.481398\n",
      "std          1.984099\n",
      "min          1.000000\n",
      "25%          3.000000\n",
      "50%          4.481398\n",
      "75%          6.000000\n",
      "max         10.000000\n",
      "Name: Resource_Allocation, dtype: float64\n"
     ]
    },
    {
     "data": {
      "image/png": "[encoded data removed]",
      "text/plain": [
       "<Figure size 720x432 with 1 Axes>"
      ]
     },
     "metadata": {
      "needs_background": "light"
     },
     "output_type": "display_data"
    }
   ],
   "source": [
    "# Select the numerical column to analyze\n",
    "numerical_column = \"Resource_Allocation\"  \n",
    "\n",
    "# Descriptive statistics\n",
    "print(df[numerical_column].describe())\n",
    "\n",
    "# Histogram\n",
    "plt.figure(figsize=(10, 6))\n",
    "sns.histplot(data=df, x=numerical_column, kde=True)\n",
    "plt.title(\"Histogram of \" + numerical_column)\n",
    "plt.xlabel(numerical_column)\n",
    "plt.ylabel(\"Frequency\")\n",
    "plt.show()\n"
   ]
  },
  {
   "cell_type": "code",
   "execution_count": 23,
   "id": "1b0f5cca",
   "metadata": {},
   "outputs": [
    {
     "name": "stdout",
     "output_type": "stream",
     "text": [
      "count    22750.000000\n",
      "mean         5.728188\n",
      "std          1.829281\n",
      "min          0.000000\n",
      "25%          4.700000\n",
      "50%          5.728188\n",
      "75%          6.900000\n",
      "max         10.000000\n",
      "Name: Mental_Fatigue_Score, dtype: float64\n"
     ]
    },
    {
     "data": {
      "image/png": "[encoded data removed]",
      "text/plain": [
       "<Figure size 720x432 with 1 Axes>"
      ]
     },
     "metadata": {
      "needs_background": "light"
     },
     "output_type": "display_data"
    }
   ],
   "source": [
    "# Select the numerical column to analyze\n",
    "numerical_column = \"Mental_Fatigue_Score\"  \n",
    "\n",
    "# Descriptive statistics\n",
    "print(df[numerical_column].describe())\n",
    "\n",
    "# Histogram\n",
    "plt.figure(figsize=(10, 6))\n",
    "sns.histplot(data=df, x=numerical_column, kde=True)\n",
    "plt.title(\"Histogram of \" + numerical_column)\n",
    "plt.xlabel(numerical_column)\n",
    "plt.ylabel(\"Frequency\")\n",
    "plt.show()\n"
   ]
  },
  {
   "cell_type": "code",
   "execution_count": 24,
   "id": "47071efb",
   "metadata": {},
   "outputs": [
    {
     "name": "stdout",
     "output_type": "stream",
     "text": [
      "count    22750.000000\n",
      "mean         0.452005\n",
      "std          0.193267\n",
      "min          0.000000\n",
      "25%          0.320000\n",
      "50%          0.452005\n",
      "75%          0.580000\n",
      "max          1.000000\n",
      "Name: Burn_Rate, dtype: float64\n"
     ]
    },
    {
     "data": {
      "image/png": "[encoded data removed]",
      "text/plain": [
       "<Figure size 720x432 with 1 Axes>"
      ]
     },
     "metadata": {
      "needs_background": "light"
     },
     "output_type": "display_data"
    }
   ],
   "source": [
    "# Select the numerical column to analyze\n",
    "numerical_column = \"Burn_Rate\"  \n",
    "\n",
    "# Descriptive statistics\n",
    "print(df[numerical_column].describe())\n",
    "\n",
    "# Histogram\n",
    "plt.figure(figsize=(10, 6))\n",
    "sns.histplot(data=df, x=numerical_column, kde=True)\n",
    "plt.title(\"Histogram of \" + numerical_column)\n",
    "plt.xlabel(numerical_column)\n",
    "plt.ylabel(\"Frequency\")\n",
    "plt.show()\n"
   ]
  },
  {
   "cell_type": "code",
   "execution_count": 26,
   "id": "e62990ba",
   "metadata": {},
   "outputs": [
    {
     "data": {
      "image/png": "[encoded data removed]",
      "text/plain": [
       "<Figure size 432x288 with 1 Axes>"
      ]
     },
     "metadata": {
      "needs_background": "light"
     },
     "output_type": "display_data"
    },
    {
     "data": {
      "image/png": "[encoded data removed]",
      "text/plain": [
       "<Figure size 432x288 with 1 Axes>"
      ]
     },
     "metadata": {
      "needs_background": "light"
     },
     "output_type": "display_data"
    },
    {
     "data": {
      "image/png": "[encoded data removed]",
      "text/plain": [
       "<Figure size 432x288 with 1 Axes>"
      ]
     },
     "metadata": {
      "needs_background": "light"
     },
     "output_type": "display_data"
    },
    {
     "data": {
      "image/png": "[encoded data removed]",
      "text/plain": [
       "<Figure size 432x288 with 1 Axes>"
      ]
     },
     "metadata": {
      "needs_background": "light"
     },
     "output_type": "display_data"
    },
    {
     "data": {
      "image/png": "[encoded data removed]",
      "text/plain": [
       "<Figure size 1440x648 with 1 Axes>"
      ]
     },
     "metadata": {
      "needs_background": "light"
     },
     "output_type": "display_data"
    },
    {
     "data": {
      "image/png": "[encoded data removed]",
      "text/plain": [
       "<Figure size 2160x648 with 1 Axes>"
      ]
     },
     "metadata": {
      "needs_background": "light"
     },
     "output_type": "display_data"
    }
   ],
   "source": [
    "import seaborn as sns\n",
    "import matplotlib.pyplot as plt\n",
    "\n",
    "sns.barplot(x='Designation', y='Burn_Rate', data=df)\n",
    "plt.show()\n",
    "\n",
    "sns.barplot(x='Gender', y='Burn_Rate', data=df)\n",
    "plt.show()\n",
    "\n",
    "sns.barplot(x='Company_Type', y='Burn_Rate', data=df)\n",
    "plt.show()\n",
    "\n",
    "sns.barplot(x='WFH_Setup_Available', y='Burn_Rate', data=df)\n",
    "plt.show()\n",
    "\n",
    "plt.figure(figsize=(20,9))\n",
    "sns.barplot(x='Resource_Allocation', y='Burn_Rate', data=df)\n",
    "plt.show()\n",
    "\n",
    "\n",
    "plt.figure(figsize=(30,9))\n",
    "sns.barplot(x='Mental_Fatigue_Score', y='Burn_Rate', data=df)\n",
    "plt.show()\n",
    "\n"
   ]
  },
  {
   "cell_type": "code",
   "execution_count": 27,
   "id": "8f30ce8b",
   "metadata": {},
   "outputs": [],
   "source": [
    "#CONVERT CATEGORICAL VALUES WITH NUMERICAL VALUES\n",
    "df.replace({\"Gender\":{\"Male\":1,\"Female\":0},\"Company_Type\":{\"Product\":0,\"Service\":1},\"WFH_Setup_Available\":{\"No\":0,\"Yes\":1}},inplace=True)"
   ]
  },
  {
   "cell_type": "code",
   "execution_count": 28,
   "id": "a7219a4f",
   "metadata": {},
   "outputs": [
    {
     "data": {
      "text/html": [
       "<div>\n",
       "<style scoped>\n",
       "    .dataframe tbody tr th:only-of-type {\n",
       "        vertical-align: middle;\n",
       "    }\n",
       "\n",
       "    .dataframe tbody tr th {\n",
       "        vertical-align: top;\n",
       "    }\n",
       "\n",
       "    .dataframe thead th {\n",
       "        text-align: right;\n",
       "    }\n",
       "</style>\n",
       "<table border=\"1\" class=\"dataframe\">\n",
       "  <thead>\n",
       "    <tr style=\"text-align: right;\">\n",
       "      <th></th>\n",
       "      <th>Employee ID</th>\n",
       "      <th>Date of Joining</th>\n",
       "      <th>Gender</th>\n",
       "      <th>Company_Type</th>\n",
       "      <th>WFH_Setup_Available</th>\n",
       "      <th>Designation</th>\n",
       "      <th>Resource_Allocation</th>\n",
       "      <th>Mental_Fatigue_Score</th>\n",
       "      <th>Burn_Rate</th>\n",
       "    </tr>\n",
       "  </thead>\n",
       "  <tbody>\n",
       "    <tr>\n",
       "      <th>0</th>\n",
       "      <td>fffe32003000360033003200</td>\n",
       "      <td>2008-09-30</td>\n",
       "      <td>0</td>\n",
       "      <td>1</td>\n",
       "      <td>0</td>\n",
       "      <td>2.0</td>\n",
       "      <td>3.000000</td>\n",
       "      <td>3.8</td>\n",
       "      <td>0.16</td>\n",
       "    </tr>\n",
       "    <tr>\n",
       "      <th>1</th>\n",
       "      <td>fffe3700360033003500</td>\n",
       "      <td>2008-11-30</td>\n",
       "      <td>1</td>\n",
       "      <td>1</td>\n",
       "      <td>1</td>\n",
       "      <td>1.0</td>\n",
       "      <td>2.000000</td>\n",
       "      <td>5.0</td>\n",
       "      <td>0.36</td>\n",
       "    </tr>\n",
       "    <tr>\n",
       "      <th>2</th>\n",
       "      <td>fffe31003300320037003900</td>\n",
       "      <td>2008-03-10</td>\n",
       "      <td>0</td>\n",
       "      <td>0</td>\n",
       "      <td>1</td>\n",
       "      <td>2.0</td>\n",
       "      <td>4.481398</td>\n",
       "      <td>5.8</td>\n",
       "      <td>0.49</td>\n",
       "    </tr>\n",
       "    <tr>\n",
       "      <th>3</th>\n",
       "      <td>fffe32003400380032003900</td>\n",
       "      <td>2008-11-03</td>\n",
       "      <td>1</td>\n",
       "      <td>1</td>\n",
       "      <td>1</td>\n",
       "      <td>1.0</td>\n",
       "      <td>1.000000</td>\n",
       "      <td>2.6</td>\n",
       "      <td>0.20</td>\n",
       "    </tr>\n",
       "    <tr>\n",
       "      <th>4</th>\n",
       "      <td>fffe31003900340031003600</td>\n",
       "      <td>2008-07-24</td>\n",
       "      <td>0</td>\n",
       "      <td>1</td>\n",
       "      <td>0</td>\n",
       "      <td>3.0</td>\n",
       "      <td>7.000000</td>\n",
       "      <td>6.9</td>\n",
       "      <td>0.52</td>\n",
       "    </tr>\n",
       "  </tbody>\n",
       "</table>\n",
       "</div>"
      ],
      "text/plain": [
       "                Employee ID Date of Joining  Gender  Company_Type  \\\n",
       "0  fffe32003000360033003200      2008-09-30       0             1   \n",
       "1      fffe3700360033003500      2008-11-30       1             1   \n",
       "2  fffe31003300320037003900      2008-03-10       0             0   \n",
       "3  fffe32003400380032003900      2008-11-03       1             1   \n",
       "4  fffe31003900340031003600      2008-07-24       0             1   \n",
       "\n",
       "   WFH_Setup_Available  Designation  Resource_Allocation  \\\n",
       "0                    0          2.0             3.000000   \n",
       "1                    1          1.0             2.000000   \n",
       "2                    1          2.0             4.481398   \n",
       "3                    1          1.0             1.000000   \n",
       "4                    0          3.0             7.000000   \n",
       "\n",
       "   Mental_Fatigue_Score  Burn_Rate  \n",
       "0                   3.8       0.16  \n",
       "1                   5.0       0.36  \n",
       "2                   5.8       0.49  \n",
       "3                   2.6       0.20  \n",
       "4                   6.9       0.52  "
      ]
     },
     "execution_count": 28,
     "metadata": {},
     "output_type": "execute_result"
    }
   ],
   "source": [
    "df.head(5)"
   ]
  },
  {
   "cell_type": "markdown",
   "id": "d3fc09a7",
   "metadata": {},
   "source": [
    "# Dividing the data into features and target "
   ]
  },
  {
   "cell_type": "code",
   "execution_count": 29,
   "id": "340f2060",
   "metadata": {},
   "outputs": [
    {
     "data": {
      "text/html": [
       "<div>\n",
       "<style scoped>\n",
       "    .dataframe tbody tr th:only-of-type {\n",
       "        vertical-align: middle;\n",
       "    }\n",
       "\n",
       "    .dataframe tbody tr th {\n",
       "        vertical-align: top;\n",
       "    }\n",
       "\n",
       "    .dataframe thead th {\n",
       "        text-align: right;\n",
       "    }\n",
       "</style>\n",
       "<table border=\"1\" class=\"dataframe\">\n",
       "  <thead>\n",
       "    <tr style=\"text-align: right;\">\n",
       "      <th></th>\n",
       "      <th>Gender</th>\n",
       "      <th>Company_Type</th>\n",
       "      <th>WFH_Setup_Available</th>\n",
       "      <th>Designation</th>\n",
       "      <th>Resource_Allocation</th>\n",
       "      <th>Mental_Fatigue_Score</th>\n",
       "    </tr>\n",
       "  </thead>\n",
       "  <tbody>\n",
       "    <tr>\n",
       "      <th>0</th>\n",
       "      <td>0</td>\n",
       "      <td>1</td>\n",
       "      <td>0</td>\n",
       "      <td>2.0</td>\n",
       "      <td>3.000000</td>\n",
       "      <td>3.800000</td>\n",
       "    </tr>\n",
       "    <tr>\n",
       "      <th>1</th>\n",
       "      <td>1</td>\n",
       "      <td>1</td>\n",
       "      <td>1</td>\n",
       "      <td>1.0</td>\n",
       "      <td>2.000000</td>\n",
       "      <td>5.000000</td>\n",
       "    </tr>\n",
       "    <tr>\n",
       "      <th>2</th>\n",
       "      <td>0</td>\n",
       "      <td>0</td>\n",
       "      <td>1</td>\n",
       "      <td>2.0</td>\n",
       "      <td>4.481398</td>\n",
       "      <td>5.800000</td>\n",
       "    </tr>\n",
       "    <tr>\n",
       "      <th>3</th>\n",
       "      <td>1</td>\n",
       "      <td>1</td>\n",
       "      <td>1</td>\n",
       "      <td>1.0</td>\n",
       "      <td>1.000000</td>\n",
       "      <td>2.600000</td>\n",
       "    </tr>\n",
       "    <tr>\n",
       "      <th>4</th>\n",
       "      <td>0</td>\n",
       "      <td>1</td>\n",
       "      <td>0</td>\n",
       "      <td>3.0</td>\n",
       "      <td>7.000000</td>\n",
       "      <td>6.900000</td>\n",
       "    </tr>\n",
       "    <tr>\n",
       "      <th>...</th>\n",
       "      <td>...</td>\n",
       "      <td>...</td>\n",
       "      <td>...</td>\n",
       "      <td>...</td>\n",
       "      <td>...</td>\n",
       "      <td>...</td>\n",
       "    </tr>\n",
       "    <tr>\n",
       "      <th>22745</th>\n",
       "      <td>0</td>\n",
       "      <td>1</td>\n",
       "      <td>0</td>\n",
       "      <td>1.0</td>\n",
       "      <td>3.000000</td>\n",
       "      <td>5.728188</td>\n",
       "    </tr>\n",
       "    <tr>\n",
       "      <th>22746</th>\n",
       "      <td>0</td>\n",
       "      <td>0</td>\n",
       "      <td>1</td>\n",
       "      <td>3.0</td>\n",
       "      <td>6.000000</td>\n",
       "      <td>6.700000</td>\n",
       "    </tr>\n",
       "    <tr>\n",
       "      <th>22747</th>\n",
       "      <td>1</td>\n",
       "      <td>1</td>\n",
       "      <td>1</td>\n",
       "      <td>3.0</td>\n",
       "      <td>7.000000</td>\n",
       "      <td>5.728188</td>\n",
       "    </tr>\n",
       "    <tr>\n",
       "      <th>22748</th>\n",
       "      <td>0</td>\n",
       "      <td>1</td>\n",
       "      <td>0</td>\n",
       "      <td>2.0</td>\n",
       "      <td>5.000000</td>\n",
       "      <td>5.900000</td>\n",
       "    </tr>\n",
       "    <tr>\n",
       "      <th>22749</th>\n",
       "      <td>1</td>\n",
       "      <td>0</td>\n",
       "      <td>0</td>\n",
       "      <td>3.0</td>\n",
       "      <td>6.000000</td>\n",
       "      <td>7.800000</td>\n",
       "    </tr>\n",
       "  </tbody>\n",
       "</table>\n",
       "<p>22750 rows × 6 columns</p>\n",
       "</div>"
      ],
      "text/plain": [
       "       Gender  Company_Type  WFH_Setup_Available  Designation  \\\n",
       "0           0             1                    0          2.0   \n",
       "1           1             1                    1          1.0   \n",
       "2           0             0                    1          2.0   \n",
       "3           1             1                    1          1.0   \n",
       "4           0             1                    0          3.0   \n",
       "...       ...           ...                  ...          ...   \n",
       "22745       0             1                    0          1.0   \n",
       "22746       0             0                    1          3.0   \n",
       "22747       1             1                    1          3.0   \n",
       "22748       0             1                    0          2.0   \n",
       "22749       1             0                    0          3.0   \n",
       "\n",
       "       Resource_Allocation  Mental_Fatigue_Score  \n",
       "0                 3.000000              3.800000  \n",
       "1                 2.000000              5.000000  \n",
       "2                 4.481398              5.800000  \n",
       "3                 1.000000              2.600000  \n",
       "4                 7.000000              6.900000  \n",
       "...                    ...                   ...  \n",
       "22745             3.000000              5.728188  \n",
       "22746             6.000000              6.700000  \n",
       "22747             7.000000              5.728188  \n",
       "22748             5.000000              5.900000  \n",
       "22749             6.000000              7.800000  \n",
       "\n",
       "[22750 rows x 6 columns]"
      ]
     },
     "execution_count": 29,
     "metadata": {},
     "output_type": "execute_result"
    }
   ],
   "source": [
    "x=df.drop(columns=[\"Employee ID\",\"Date of Joining\",\"Burn_Rate\"],axis=1)\n",
    "x"
   ]
  },
  {
   "cell_type": "code",
   "execution_count": 30,
   "id": "12997523",
   "metadata": {},
   "outputs": [
    {
     "data": {
      "text/plain": [
       "0        0.16\n",
       "1        0.36\n",
       "2        0.49\n",
       "3        0.20\n",
       "4        0.52\n",
       "         ... \n",
       "22745    0.41\n",
       "22746    0.59\n",
       "22747    0.72\n",
       "22748    0.52\n",
       "22749    0.61\n",
       "Name: Burn_Rate, Length: 22750, dtype: float64"
      ]
     },
     "execution_count": 30,
     "metadata": {},
     "output_type": "execute_result"
    }
   ],
   "source": [
    "y=df[\"Burn_Rate\"]\n",
    "y"
   ]
  },
  {
   "cell_type": "markdown",
   "id": "3990b345",
   "metadata": {},
   "source": [
    "# Splitting the data into training and testing set "
   ]
  },
  {
   "cell_type": "code",
   "execution_count": 31,
   "id": "86b47610",
   "metadata": {},
   "outputs": [],
   "source": [
    "x_train,x_test,y_train,y_test=train_test_split(x,y,test_size=0.2,random_state=42)"
   ]
  },
  {
   "cell_type": "code",
   "execution_count": 32,
   "id": "5a56c719",
   "metadata": {},
   "outputs": [
    {
     "name": "stdout",
     "output_type": "stream",
     "text": [
      "(22750, 6)\n",
      "(18200, 6)\n",
      "(4550, 6)\n"
     ]
    }
   ],
   "source": [
    "print(x.shape)\n",
    "print(x_train.shape)\n",
    "print(x_test.shape)\n"
   ]
  },
  {
   "cell_type": "code",
   "execution_count": 33,
   "id": "b3172bf7",
   "metadata": {},
   "outputs": [
    {
     "name": "stdout",
     "output_type": "stream",
     "text": [
      "(22750,)\n",
      "(18200,)\n",
      "(4550,)\n"
     ]
    }
   ],
   "source": [
    "print(y.shape)\n",
    "print(y_train.shape)\n",
    "print(y_test.shape)"
   ]
  },
  {
   "cell_type": "markdown",
   "id": "4664fa0c",
   "metadata": {},
   "source": [
    "# Training the model"
   ]
  },
  {
   "cell_type": "markdown",
   "id": "ec2c6673",
   "metadata": {},
   "source": [
    "# 1)Linear Regression"
   ]
  },
  {
   "cell_type": "code",
   "execution_count": 34,
   "id": "c08253f0",
   "metadata": {},
   "outputs": [],
   "source": [
    "from sklearn.linear_model import LinearRegression\n",
    "lr=LinearRegression()"
   ]
  },
  {
   "cell_type": "code",
   "execution_count": 35,
   "id": "1687db36",
   "metadata": {},
   "outputs": [
    {
     "data": {
      "text/html": [
       "<style>#sk-container-id-1 {color: black;background-color: white;}#sk-container-id-1 pre{padding: 0;}#sk-container-id-1 div.sk-toggleable {background-color: white;}#sk-container-id-1 label.sk-toggleable__label {cursor: pointer;display: block;width: 100%;margin-bottom: 0;padding: 0.3em;box-sizing: border-box;text-align: center;}#sk-container-id-1 label.sk-toggleable__label-arrow:before {content: \"▸\";float: left;margin-right: 0.25em;color: #696969;}#sk-container-id-1 label.sk-toggleable__label-arrow:hover:before {color: black;}#sk-container-id-1 div.sk-estimator:hover label.sk-toggleable__label-arrow:before {color: black;}#sk-container-id-1 div.sk-toggleable__content {max-height: 0;max-width: 0;overflow: hidden;text-align: left;background-color: #f0f8ff;}#sk-container-id-1 div.sk-toggleable__content pre {margin: 0.2em;color: black;border-radius: 0.25em;background-color: #f0f8ff;}#sk-container-id-1 input.sk-toggleable__control:checked~div.sk-toggleable__content {max-height: 200px;max-width: 100%;overflow: auto;}#sk-container-id-1 input.sk-toggleable__control:checked~label.sk-toggleable__label-arrow:before {content: \"▾\";}#sk-container-id-1 div.sk-estimator input.sk-toggleable__control:checked~label.sk-toggleable__label {background-color: #d4ebff;}#sk-container-id-1 div.sk-label input.sk-toggleable__control:checked~label.sk-toggleable__label {background-color: #d4ebff;}#sk-container-id-1 input.sk-hidden--visually {border: 0;clip: rect(1px 1px 1px 1px);clip: rect(1px, 1px, 1px, 1px);height: 1px;margin: -1px;overflow: hidden;padding: 0;position: absolute;width: 1px;}#sk-container-id-1 div.sk-estimator {font-family: monospace;background-color: #f0f8ff;border: 1px dotted black;border-radius: 0.25em;box-sizing: border-box;margin-bottom: 0.5em;}#sk-container-id-1 div.sk-estimator:hover {background-color: #d4ebff;}#sk-container-id-1 div.sk-parallel-item::after {content: \"\";width: 100%;border-bottom: 1px solid gray;flex-grow: 1;}#sk-container-id-1 div.sk-label:hover label.sk-toggleable__label {background-color: #d4ebff;}#sk-container-id-1 div.sk-serial::before {content: \"\";position: absolute;border-left: 1px solid gray;box-sizing: border-box;top: 0;bottom: 0;left: 50%;z-index: 0;}#sk-container-id-1 div.sk-serial {display: flex;flex-direction: column;align-items: center;background-color: white;padding-right: 0.2em;padding-left: 0.2em;position: relative;}#sk-container-id-1 div.sk-item {position: relative;z-index: 1;}#sk-container-id-1 div.sk-parallel {display: flex;align-items: stretch;justify-content: center;background-color: white;position: relative;}#sk-container-id-1 div.sk-item::before, #sk-container-id-1 div.sk-parallel-item::before {content: \"\";position: absolute;border-left: 1px solid gray;box-sizing: border-box;top: 0;bottom: 0;left: 50%;z-index: -1;}#sk-container-id-1 div.sk-parallel-item {display: flex;flex-direction: column;z-index: 1;position: relative;background-color: white;}#sk-container-id-1 div.sk-parallel-item:first-child::after {align-self: flex-end;width: 50%;}#sk-container-id-1 div.sk-parallel-item:last-child::after {align-self: flex-start;width: 50%;}#sk-container-id-1 div.sk-parallel-item:only-child::after {width: 0;}#sk-container-id-1 div.sk-dashed-wrapped {border: 1px dashed gray;margin: 0 0.4em 0.5em 0.4em;box-sizing: border-box;padding-bottom: 0.4em;background-color: white;}#sk-container-id-1 div.sk-label label {font-family: monospace;font-weight: bold;display: inline-block;line-height: 1.2em;}#sk-container-id-1 div.sk-label-container {text-align: center;}#sk-container-id-1 div.sk-container {/* jupyter's `normalize.less` sets `[hidden] { display: none; }` but bootstrap.min.css set `[hidden] { display: none !important; }` so we also need the `!important` here to be able to override the default hidden behavior on the sphinx rendered scikit-learn.org. See: https://github.com/scikit-learn/scikit-learn/issues/21755 */display: inline-block !important;position: relative;}#sk-container-id-1 div.sk-text-repr-fallback {display: none;}</style><div id=\"sk-container-id-1\" class=\"sk-top-container\"><div class=\"sk-text-repr-fallback\"><pre>LinearRegression()</pre><b>In a Jupyter environment, please rerun this cell to show the HTML representation or trust the notebook. <br />On GitHub, the HTML representation is unable to render, please try loading this page with nbviewer.org.</b></div><div class=\"sk-container\" hidden><div class=\"sk-item\"><div class=\"sk-estimator sk-toggleable\"><input class=\"sk-toggleable__control sk-hidden--visually\" id=\"sk-estimator-id-1\" type=\"checkbox\" checked><label for=\"sk-estimator-id-1\" class=\"sk-toggleable__label sk-toggleable__label-arrow\">LinearRegression</label><div class=\"sk-toggleable__content\"><pre>LinearRegression()</pre></div></div></div></div></div>"
      ],
      "text/plain": [
       "LinearRegression()"
      ]
     },
     "execution_count": 35,
     "metadata": {},
     "output_type": "execute_result"
    }
   ],
   "source": [
    "lr.fit(x_train,y_train)"
   ]
  },
  {
   "cell_type": "code",
   "execution_count": 36,
   "id": "e124f243",
   "metadata": {},
   "outputs": [
    {
     "name": "stdout",
     "output_type": "stream",
     "text": [
      "R Squared error: 0.8315771302019436\n"
     ]
    }
   ],
   "source": [
    "#Evaluating trainiong data\n",
    "x_training_data=lr.predict(x_train)\n",
    "error_score=metrics.r2_score(y_train,x_training_data)\n",
    "print(\"R Squared error:\",error_score)"
   ]
  },
  {
   "cell_type": "code",
   "execution_count": 37,
   "id": "dfd78b63",
   "metadata": {},
   "outputs": [
    {
     "name": "stdout",
     "output_type": "stream",
     "text": [
      "Mean Absolute Error: 0.05768541619226007\n"
     ]
    }
   ],
   "source": [
    "from sklearn.metrics import mean_absolute_error\n",
    "y_pred=lr.predict(x_train)\n",
    "# Assuming y_true contains the true values and y_pred contains the predicted values\n",
    "mae = mean_absolute_error(y_train, y_pred)\n",
    "print(\"Mean Absolute Error:\", mae)\n"
   ]
  },
  {
   "cell_type": "code",
   "execution_count": 38,
   "id": "22a8cb8d",
   "metadata": {},
   "outputs": [
    {
     "data": {
      "image/png": "[encoded data removed]",
      "text/plain": [
       "<Figure size 432x288 with 1 Axes>"
      ]
     },
     "metadata": {
      "needs_background": "light"
     },
     "output_type": "display_data"
    }
   ],
   "source": [
    "plt.scatter(y_train, y_pred, color='y', label='Predicted')  # Predicted values are plotted in blue\n",
    "plt.scatter(y_train, y_train, color='r', label='Actual')  # Actual values are plotted in red\n",
    "plt.xlabel('True Values')\n",
    "plt.ylabel('Predicted Values')\n",
    "plt.title('Regression Model Performance of Linear Regression')\n",
    "plt.legend()\n",
    "plt.show()"
   ]
  },
  {
   "cell_type": "markdown",
   "id": "7fcd752e",
   "metadata": {},
   "source": [
    "# 2)LGBM Regressor"
   ]
  },
  {
   "cell_type": "markdown",
   "id": "19027e51",
   "metadata": {},
   "source": [
    "LightGBM uses a tree-based learning algorithm and implements a technique called Gradient-based One-Side Sampling (GOSS) for selecting the most informative samples during tree construction. "
   ]
  },
  {
   "cell_type": "markdown",
   "id": "e47257f8",
   "metadata": {},
   "source": [
    "LightGBM is a gradient boosting framework developed by Microsoft. It's known for its high efficiency, faster training speed, and ability to handle large datasets. "
   ]
  },
  {
   "cell_type": "code",
   "execution_count": 39,
   "id": "166e9326",
   "metadata": {},
   "outputs": [
    {
     "name": "stdout",
     "output_type": "stream",
     "text": [
      "Requirement already satisfied: lightgbm in c:\\users\\kakul\\anaconda3\\lib\\site-packages (3.3.5)\n",
      "Requirement already satisfied: scipy in c:\\users\\kakul\\anaconda3\\lib\\site-packages (from lightgbm) (1.7.3)\n",
      "Requirement already satisfied: numpy in c:\\users\\kakul\\anaconda3\\lib\\site-packages (from lightgbm) (1.21.5)\n",
      "Requirement already satisfied: scikit-learn!=0.22.0 in c:\\users\\kakul\\anaconda3\\lib\\site-packages (from lightgbm) (1.2.2)\n",
      "Requirement already satisfied: wheel in c:\\users\\kakul\\anaconda3\\lib\\site-packages (from lightgbm) (0.37.1)\n",
      "Requirement already satisfied: joblib>=1.1.1 in c:\\users\\kakul\\anaconda3\\lib\\site-packages (from scikit-learn!=0.22.0->lightgbm) (1.2.0)\n",
      "Requirement already satisfied: threadpoolctl>=2.0.0 in c:\\users\\kakul\\anaconda3\\lib\\site-packages (from scikit-learn!=0.22.0->lightgbm) (2.2.0)\n",
      "Note: you may need to restart the kernel to use updated packages.\n"
     ]
    }
   ],
   "source": [
    "pip install lightgbm"
   ]
  },
  {
   "cell_type": "code",
   "execution_count": 40,
   "id": "945b0af2",
   "metadata": {},
   "outputs": [
    {
     "data": {
      "text/html": [
       "<style>#sk-container-id-2 {color: black;background-color: white;}#sk-container-id-2 pre{padding: 0;}#sk-container-id-2 div.sk-toggleable {background-color: white;}#sk-container-id-2 label.sk-toggleable__label {cursor: pointer;display: block;width: 100%;margin-bottom: 0;padding: 0.3em;box-sizing: border-box;text-align: center;}#sk-container-id-2 label.sk-toggleable__label-arrow:before {content: \"▸\";float: left;margin-right: 0.25em;color: #696969;}#sk-container-id-2 label.sk-toggleable__label-arrow:hover:before {color: black;}#sk-container-id-2 div.sk-estimator:hover label.sk-toggleable__label-arrow:before {color: black;}#sk-container-id-2 div.sk-toggleable__content {max-height: 0;max-width: 0;overflow: hidden;text-align: left;background-color: #f0f8ff;}#sk-container-id-2 div.sk-toggleable__content pre {margin: 0.2em;color: black;border-radius: 0.25em;background-color: #f0f8ff;}#sk-container-id-2 input.sk-toggleable__control:checked~div.sk-toggleable__content {max-height: 200px;max-width: 100%;overflow: auto;}#sk-container-id-2 input.sk-toggleable__control:checked~label.sk-toggleable__label-arrow:before {content: \"▾\";}#sk-container-id-2 div.sk-estimator input.sk-toggleable__control:checked~label.sk-toggleable__label {background-color: #d4ebff;}#sk-container-id-2 div.sk-label input.sk-toggleable__control:checked~label.sk-toggleable__label {background-color: #d4ebff;}#sk-container-id-2 input.sk-hidden--visually {border: 0;clip: rect(1px 1px 1px 1px);clip: rect(1px, 1px, 1px, 1px);height: 1px;margin: -1px;overflow: hidden;padding: 0;position: absolute;width: 1px;}#sk-container-id-2 div.sk-estimator {font-family: monospace;background-color: #f0f8ff;border: 1px dotted black;border-radius: 0.25em;box-sizing: border-box;margin-bottom: 0.5em;}#sk-container-id-2 div.sk-estimator:hover {background-color: #d4ebff;}#sk-container-id-2 div.sk-parallel-item::after {content: \"\";width: 100%;border-bottom: 1px solid gray;flex-grow: 1;}#sk-container-id-2 div.sk-label:hover label.sk-toggleable__label {background-color: #d4ebff;}#sk-container-id-2 div.sk-serial::before {content: \"\";position: absolute;border-left: 1px solid gray;box-sizing: border-box;top: 0;bottom: 0;left: 50%;z-index: 0;}#sk-container-id-2 div.sk-serial {display: flex;flex-direction: column;align-items: center;background-color: white;padding-right: 0.2em;padding-left: 0.2em;position: relative;}#sk-container-id-2 div.sk-item {position: relative;z-index: 1;}#sk-container-id-2 div.sk-parallel {display: flex;align-items: stretch;justify-content: center;background-color: white;position: relative;}#sk-container-id-2 div.sk-item::before, #sk-container-id-2 div.sk-parallel-item::before {content: \"\";position: absolute;border-left: 1px solid gray;box-sizing: border-box;top: 0;bottom: 0;left: 50%;z-index: -1;}#sk-container-id-2 div.sk-parallel-item {display: flex;flex-direction: column;z-index: 1;position: relative;background-color: white;}#sk-container-id-2 div.sk-parallel-item:first-child::after {align-self: flex-end;width: 50%;}#sk-container-id-2 div.sk-parallel-item:last-child::after {align-self: flex-start;width: 50%;}#sk-container-id-2 div.sk-parallel-item:only-child::after {width: 0;}#sk-container-id-2 div.sk-dashed-wrapped {border: 1px dashed gray;margin: 0 0.4em 0.5em 0.4em;box-sizing: border-box;padding-bottom: 0.4em;background-color: white;}#sk-container-id-2 div.sk-label label {font-family: monospace;font-weight: bold;display: inline-block;line-height: 1.2em;}#sk-container-id-2 div.sk-label-container {text-align: center;}#sk-container-id-2 div.sk-container {/* jupyter's `normalize.less` sets `[hidden] { display: none; }` but bootstrap.min.css set `[hidden] { display: none !important; }` so we also need the `!important` here to be able to override the default hidden behavior on the sphinx rendered scikit-learn.org. See: https://github.com/scikit-learn/scikit-learn/issues/21755 */display: inline-block !important;position: relative;}#sk-container-id-2 div.sk-text-repr-fallback {display: none;}</style><div id=\"sk-container-id-2\" class=\"sk-top-container\"><div class=\"sk-text-repr-fallback\"><pre>LGBMRegressor()</pre><b>In a Jupyter environment, please rerun this cell to show the HTML representation or trust the notebook. <br />On GitHub, the HTML representation is unable to render, please try loading this page with nbviewer.org.</b></div><div class=\"sk-container\" hidden><div class=\"sk-item\"><div class=\"sk-estimator sk-toggleable\"><input class=\"sk-toggleable__control sk-hidden--visually\" id=\"sk-estimator-id-2\" type=\"checkbox\" checked><label for=\"sk-estimator-id-2\" class=\"sk-toggleable__label sk-toggleable__label-arrow\">LGBMRegressor</label><div class=\"sk-toggleable__content\"><pre>LGBMRegressor()</pre></div></div></div></div></div>"
      ],
      "text/plain": [
       "LGBMRegressor()"
      ]
     },
     "execution_count": 40,
     "metadata": {},
     "output_type": "execute_result"
    }
   ],
   "source": [
    "from lightgbm import LGBMRegressor\n",
    "\n",
    "# Initialize the LGBM Regressor\n",
    "model = LGBMRegressor()\n",
    "\n",
    "# Train the model\n",
    "model.fit(x_train, y_train)\n"
   ]
  },
  {
   "cell_type": "code",
   "execution_count": 41,
   "id": "893552f1",
   "metadata": {},
   "outputs": [
    {
     "name": "stdout",
     "output_type": "stream",
     "text": [
      "Mean Absolute Error: 0.05033546839349793\n"
     ]
    }
   ],
   "source": [
    "from sklearn.metrics import mean_absolute_error\n",
    "y_pred=model.predict(x_train)\n",
    "# Assuming y_true contains the true values and y_pred contains the predicted values\n",
    "mae = mean_absolute_error(y_train, y_pred)\n",
    "print(\"Mean Absolute Error:\", mae)\n"
   ]
  },
  {
   "cell_type": "code",
   "execution_count": 42,
   "id": "681cf3a6",
   "metadata": {},
   "outputs": [
    {
     "name": "stdout",
     "output_type": "stream",
     "text": [
      "R Squared error: 0.8767563666055506\n"
     ]
    }
   ],
   "source": [
    "#Evaluating trainiong data\n",
    "x_training_data=model.predict(x_train)\n",
    "error_score=metrics.r2_score(y_train,x_training_data)\n",
    "print(\"R Squared error:\",error_score)"
   ]
  },
  {
   "cell_type": "code",
   "execution_count": 43,
   "id": "19065862",
   "metadata": {},
   "outputs": [
    {
     "data": {
      "image/png": "[encoded data removed]",
      "text/plain": [
       "<Figure size 432x288 with 1 Axes>"
      ]
     },
     "metadata": {
      "needs_background": "light"
     },
     "output_type": "display_data"
    }
   ],
   "source": [
    "plt.scatter(y_train, y_pred, color='b', label='Predicted')  # Predicted values are plotted in blue\n",
    "plt.scatter(y_train, y_train, color='r', label='Actual')  # Actual values are plotted in red\n",
    "plt.xlabel('True Values')\n",
    "plt.ylabel('Predicted Values')\n",
    "plt.title('Regression Model Performance of LightGBM Regressor')\n",
    "plt.legend()\n",
    "plt.show()"
   ]
  },
  {
   "cell_type": "markdown",
   "id": "95de8e34",
   "metadata": {},
   "source": [
    "# 3)CatBoostRegressor"
   ]
  },
  {
   "cell_type": "markdown",
   "id": "6d0bcc00",
   "metadata": {},
   "source": [
    "CatBoost is a gradient boosting algorithm developed by Yandex. It stands for \"Categorical Boosting\" as it handles categorical features naturally without requiring explicit preprocessing steps. CatBoost uses an ordered boosting algorithm and incorporates advanced techniques such as gradient-based one-hot encoding, an innovative gradient-boosting scheme, and a novel learning rate schedule. It provides excellent performance and is robust against overfitting."
   ]
  },
  {
   "cell_type": "code",
   "execution_count": 44,
   "id": "101b2721",
   "metadata": {},
   "outputs": [
    {
     "name": "stdout",
     "output_type": "stream",
     "text": [
      "Requirement already satisfied: catboost in c:\\users\\kakul\\anaconda3\\lib\\site-packages (1.2)\n",
      "Requirement already satisfied: graphviz in c:\\users\\kakul\\anaconda3\\lib\\site-packages (from catboost) (0.20.1)\n",
      "Requirement already satisfied: matplotlib in c:\\users\\kakul\\anaconda3\\lib\\site-packages (from catboost) (3.5.1)\n",
      "Requirement already satisfied: scipy in c:\\users\\kakul\\anaconda3\\lib\\site-packages (from catboost) (1.7.3)\n",
      "Requirement already satisfied: plotly in c:\\users\\kakul\\anaconda3\\lib\\site-packages (from catboost) (5.6.0)\n",
      "Requirement already satisfied: six in c:\\users\\kakul\\anaconda3\\lib\\site-packages (from catboost) (1.16.0)\n",
      "Requirement already satisfied: pandas>=0.24 in c:\\users\\kakul\\anaconda3\\lib\\site-packages (from catboost) (1.4.2)\n",
      "Requirement already satisfied: numpy>=1.16.0 in c:\\users\\kakul\\anaconda3\\lib\\site-packages (from catboost) (1.21.5)\n",
      "Requirement already satisfied: python-dateutil>=2.8.1 in c:\\users\\kakul\\anaconda3\\lib\\site-packages (from pandas>=0.24->catboost) (2.8.2)\n",
      "Requirement already satisfied: pytz>=2020.1 in c:\\users\\kakul\\anaconda3\\lib\\site-packages (from pandas>=0.24->catboost) (2021.3)\n",
      "Requirement already satisfied: fonttools>=4.22.0 in c:\\users\\kakul\\anaconda3\\lib\\site-packages (from matplotlib->catboost) (4.25.0)\n",
      "Requirement already satisfied: pyparsing>=2.2.1 in c:\\users\\kakul\\anaconda3\\lib\\site-packages (from matplotlib->catboost) (3.0.4)\n",
      "Requirement already satisfied: pillow>=6.2.0 in c:\\users\\kakul\\anaconda3\\lib\\site-packages (from matplotlib->catboost) (9.0.1)\n",
      "Requirement already satisfied: cycler>=0.10 in c:\\users\\kakul\\anaconda3\\lib\\site-packages (from matplotlib->catboost) (0.11.0)\n",
      "Requirement already satisfied: packaging>=20.0 in c:\\users\\kakul\\anaconda3\\lib\\site-packages (from matplotlib->catboost) (21.3)\n",
      "Requirement already satisfied: kiwisolver>=1.0.1 in c:\\users\\kakul\\anaconda3\\lib\\site-packages (from matplotlib->catboost) (1.3.2)\n",
      "Requirement already satisfied: tenacity>=6.2.0 in c:\\users\\kakul\\anaconda3\\lib\\site-packages (from plotly->catboost) (8.0.1)\n",
      "Note: you may need to restart the kernel to use updated packages.\n"
     ]
    }
   ],
   "source": [
    "pip install catboost"
   ]
  },
  {
   "cell_type": "code",
   "execution_count": 45,
   "id": "9f75141d",
   "metadata": {},
   "outputs": [
    {
     "name": "stdout",
     "output_type": "stream",
     "text": [
      "Learning rate set to 0.064755\n",
      "0:\tlearn: 0.1846323\ttotal: 131ms\tremaining: 2m 11s\n",
      "1:\tlearn: 0.1757528\ttotal: 137ms\tremaining: 1m 8s\n",
      "2:\tlearn: 0.1675684\ttotal: 142ms\tremaining: 47.3s\n",
      "3:\tlearn: 0.1598676\ttotal: 147ms\tremaining: 36.5s\n",
      "4:\tlearn: 0.1527522\ttotal: 149ms\tremaining: 29.6s\n",
      "5:\tlearn: 0.1461281\ttotal: 151ms\tremaining: 25s\n",
      "6:\tlearn: 0.1399929\ttotal: 153ms\tremaining: 21.7s\n",
      "7:\tlearn: 0.1342510\ttotal: 155ms\tremaining: 19.2s\n",
      "8:\tlearn: 0.1289415\ttotal: 157ms\tremaining: 17.3s\n",
      "9:\tlearn: 0.1242348\ttotal: 159ms\tremaining: 15.7s\n",
      "10:\tlearn: 0.1198717\ttotal: 161ms\tremaining: 14.5s\n",
      "11:\tlearn: 0.1158660\ttotal: 163ms\tremaining: 13.5s\n",
      "12:\tlearn: 0.1121316\ttotal: 165ms\tremaining: 12.6s\n",
      "13:\tlearn: 0.1087802\ttotal: 168ms\tremaining: 11.8s\n",
      "14:\tlearn: 0.1057086\ttotal: 170ms\tremaining: 11.1s\n",
      "15:\tlearn: 0.1027871\ttotal: 172ms\tremaining: 10.5s\n",
      "16:\tlearn: 0.1002241\ttotal: 174ms\tremaining: 10s\n",
      "17:\tlearn: 0.0977646\ttotal: 176ms\tremaining: 9.58s\n",
      "18:\tlearn: 0.0956087\ttotal: 177ms\tremaining: 9.16s\n",
      "19:\tlearn: 0.0935466\ttotal: 179ms\tremaining: 8.79s\n",
      "20:\tlearn: 0.0918662\ttotal: 181ms\tremaining: 8.46s\n",
      "21:\tlearn: 0.0902477\ttotal: 183ms\tremaining: 8.15s\n",
      "22:\tlearn: 0.0887072\ttotal: 186ms\tremaining: 7.91s\n",
      "23:\tlearn: 0.0873156\ttotal: 189ms\tremaining: 7.67s\n",
      "24:\tlearn: 0.0861349\ttotal: 191ms\tremaining: 7.43s\n",
      "25:\tlearn: 0.0849762\ttotal: 193ms\tremaining: 7.21s\n",
      "26:\tlearn: 0.0839965\ttotal: 195ms\tremaining: 7.01s\n",
      "27:\tlearn: 0.0830291\ttotal: 197ms\tremaining: 6.83s\n",
      "28:\tlearn: 0.0822100\ttotal: 199ms\tremaining: 6.65s\n",
      "29:\tlearn: 0.0814693\ttotal: 201ms\tremaining: 6.49s\n",
      "30:\tlearn: 0.0807708\ttotal: 203ms\tremaining: 6.33s\n",
      "31:\tlearn: 0.0801298\ttotal: 205ms\tremaining: 6.19s\n",
      "32:\tlearn: 0.0795859\ttotal: 207ms\tremaining: 6.05s\n",
      "33:\tlearn: 0.0790782\ttotal: 208ms\tremaining: 5.92s\n",
      "34:\tlearn: 0.0786205\ttotal: 211ms\tremaining: 5.8s\n",
      "35:\tlearn: 0.0781977\ttotal: 212ms\tremaining: 5.69s\n",
      "36:\tlearn: 0.0777850\ttotal: 214ms\tremaining: 5.58s\n",
      "37:\tlearn: 0.0774449\ttotal: 216ms\tremaining: 5.47s\n",
      "38:\tlearn: 0.0771264\ttotal: 218ms\tremaining: 5.38s\n",
      "39:\tlearn: 0.0768354\ttotal: 220ms\tremaining: 5.28s\n",
      "40:\tlearn: 0.0764872\ttotal: 222ms\tremaining: 5.19s\n",
      "41:\tlearn: 0.0762443\ttotal: 224ms\tremaining: 5.11s\n",
      "42:\tlearn: 0.0758289\ttotal: 226ms\tremaining: 5.03s\n",
      "43:\tlearn: 0.0756335\ttotal: 228ms\tremaining: 4.96s\n",
      "44:\tlearn: 0.0754419\ttotal: 230ms\tremaining: 4.88s\n",
      "45:\tlearn: 0.0753003\ttotal: 232ms\tremaining: 4.81s\n",
      "46:\tlearn: 0.0750213\ttotal: 234ms\tremaining: 4.74s\n",
      "47:\tlearn: 0.0748660\ttotal: 236ms\tremaining: 4.68s\n",
      "48:\tlearn: 0.0747457\ttotal: 238ms\tremaining: 4.62s\n",
      "49:\tlearn: 0.0746323\ttotal: 240ms\tremaining: 4.57s\n",
      "50:\tlearn: 0.0744906\ttotal: 243ms\tremaining: 4.51s\n",
      "51:\tlearn: 0.0742662\ttotal: 245ms\tremaining: 4.46s\n",
      "52:\tlearn: 0.0741789\ttotal: 247ms\tremaining: 4.41s\n",
      "53:\tlearn: 0.0740758\ttotal: 249ms\tremaining: 4.35s\n",
      "54:\tlearn: 0.0739782\ttotal: 251ms\tremaining: 4.3s\n",
      "55:\tlearn: 0.0737521\ttotal: 253ms\tremaining: 4.26s\n",
      "56:\tlearn: 0.0736661\ttotal: 254ms\tremaining: 4.21s\n",
      "57:\tlearn: 0.0735101\ttotal: 257ms\tremaining: 4.17s\n",
      "58:\tlearn: 0.0734488\ttotal: 258ms\tremaining: 4.12s\n",
      "59:\tlearn: 0.0732764\ttotal: 260ms\tremaining: 4.08s\n",
      "60:\tlearn: 0.0732278\ttotal: 262ms\tremaining: 4.04s\n",
      "61:\tlearn: 0.0730955\ttotal: 264ms\tremaining: 4s\n",
      "62:\tlearn: 0.0730389\ttotal: 266ms\tremaining: 3.96s\n",
      "63:\tlearn: 0.0729874\ttotal: 268ms\tremaining: 3.92s\n",
      "64:\tlearn: 0.0728979\ttotal: 270ms\tremaining: 3.89s\n",
      "65:\tlearn: 0.0728596\ttotal: 272ms\tremaining: 3.85s\n",
      "66:\tlearn: 0.0728135\ttotal: 274ms\tremaining: 3.82s\n",
      "67:\tlearn: 0.0727413\ttotal: 276ms\tremaining: 3.79s\n",
      "68:\tlearn: 0.0726586\ttotal: 278ms\tremaining: 3.75s\n",
      "69:\tlearn: 0.0725183\ttotal: 280ms\tremaining: 3.72s\n",
      "70:\tlearn: 0.0724863\ttotal: 282ms\tremaining: 3.69s\n",
      "71:\tlearn: 0.0724609\ttotal: 284ms\tremaining: 3.66s\n",
      "72:\tlearn: 0.0724482\ttotal: 286ms\tremaining: 3.63s\n",
      "73:\tlearn: 0.0724314\ttotal: 287ms\tremaining: 3.59s\n",
      "74:\tlearn: 0.0723983\ttotal: 289ms\tremaining: 3.56s\n",
      "75:\tlearn: 0.0723696\ttotal: 291ms\tremaining: 3.54s\n",
      "76:\tlearn: 0.0723053\ttotal: 293ms\tremaining: 3.51s\n",
      "77:\tlearn: 0.0722366\ttotal: 295ms\tremaining: 3.49s\n",
      "78:\tlearn: 0.0722047\ttotal: 297ms\tremaining: 3.46s\n",
      "79:\tlearn: 0.0721788\ttotal: 299ms\tremaining: 3.44s\n",
      "80:\tlearn: 0.0721474\ttotal: 301ms\tremaining: 3.41s\n",
      "81:\tlearn: 0.0721299\ttotal: 303ms\tremaining: 3.39s\n",
      "82:\tlearn: 0.0721035\ttotal: 305ms\tremaining: 3.37s\n",
      "83:\tlearn: 0.0720276\ttotal: 307ms\tremaining: 3.35s\n",
      "84:\tlearn: 0.0720036\ttotal: 309ms\tremaining: 3.33s\n",
      "85:\tlearn: 0.0719790\ttotal: 311ms\tremaining: 3.3s\n",
      "86:\tlearn: 0.0719678\ttotal: 313ms\tremaining: 3.29s\n",
      "87:\tlearn: 0.0719518\ttotal: 315ms\tremaining: 3.27s\n",
      "88:\tlearn: 0.0718807\ttotal: 317ms\tremaining: 3.24s\n",
      "89:\tlearn: 0.0718535\ttotal: 319ms\tremaining: 3.23s\n",
      "90:\tlearn: 0.0717675\ttotal: 321ms\tremaining: 3.21s\n",
      "91:\tlearn: 0.0717376\ttotal: 324ms\tremaining: 3.19s\n",
      "92:\tlearn: 0.0716850\ttotal: 326ms\tremaining: 3.18s\n",
      "93:\tlearn: 0.0716586\ttotal: 328ms\tremaining: 3.16s\n",
      "94:\tlearn: 0.0716206\ttotal: 330ms\tremaining: 3.14s\n",
      "95:\tlearn: 0.0716059\ttotal: 332ms\tremaining: 3.12s\n",
      "96:\tlearn: 0.0715948\ttotal: 334ms\tremaining: 3.11s\n",
      "97:\tlearn: 0.0715467\ttotal: 336ms\tremaining: 3.09s\n",
      "98:\tlearn: 0.0714869\ttotal: 338ms\tremaining: 3.07s\n",
      "99:\tlearn: 0.0714633\ttotal: 340ms\tremaining: 3.06s\n",
      "100:\tlearn: 0.0714266\ttotal: 342ms\tremaining: 3.04s\n",
      "101:\tlearn: 0.0714026\ttotal: 344ms\tremaining: 3.02s\n",
      "102:\tlearn: 0.0713808\ttotal: 346ms\tremaining: 3.01s\n",
      "103:\tlearn: 0.0713207\ttotal: 348ms\tremaining: 3s\n",
      "104:\tlearn: 0.0713040\ttotal: 350ms\tremaining: 2.98s\n",
      "105:\tlearn: 0.0712967\ttotal: 352ms\tremaining: 2.97s\n",
      "106:\tlearn: 0.0712697\ttotal: 354ms\tremaining: 2.96s\n",
      "107:\tlearn: 0.0712031\ttotal: 357ms\tremaining: 2.94s\n",
      "108:\tlearn: 0.0711866\ttotal: 359ms\tremaining: 2.93s\n",
      "109:\tlearn: 0.0711481\ttotal: 361ms\tremaining: 2.92s\n",
      "110:\tlearn: 0.0711346\ttotal: 363ms\tremaining: 2.91s\n",
      "111:\tlearn: 0.0711191\ttotal: 365ms\tremaining: 2.9s\n",
      "112:\tlearn: 0.0711067\ttotal: 368ms\tremaining: 2.89s\n",
      "113:\tlearn: 0.0710892\ttotal: 370ms\tremaining: 2.87s\n",
      "114:\tlearn: 0.0710879\ttotal: 371ms\tremaining: 2.86s\n",
      "115:\tlearn: 0.0710487\ttotal: 373ms\tremaining: 2.84s\n",
      "116:\tlearn: 0.0710364\ttotal: 375ms\tremaining: 2.83s\n",
      "117:\tlearn: 0.0710161\ttotal: 377ms\tremaining: 2.82s\n",
      "118:\tlearn: 0.0709497\ttotal: 379ms\tremaining: 2.81s\n",
      "119:\tlearn: 0.0709042\ttotal: 381ms\tremaining: 2.79s\n",
      "120:\tlearn: 0.0708869\ttotal: 383ms\tremaining: 2.78s\n",
      "121:\tlearn: 0.0708718\ttotal: 385ms\tremaining: 2.77s\n",
      "122:\tlearn: 0.0708550\ttotal: 387ms\tremaining: 2.76s\n",
      "123:\tlearn: 0.0708405\ttotal: 389ms\tremaining: 2.75s\n",
      "124:\tlearn: 0.0707908\ttotal: 391ms\tremaining: 2.73s\n",
      "125:\tlearn: 0.0707510\ttotal: 393ms\tremaining: 2.72s\n",
      "126:\tlearn: 0.0707375\ttotal: 395ms\tremaining: 2.71s\n",
      "127:\tlearn: 0.0707183\ttotal: 397ms\tremaining: 2.7s\n",
      "128:\tlearn: 0.0707026\ttotal: 399ms\tremaining: 2.69s\n",
      "129:\tlearn: 0.0706853\ttotal: 401ms\tremaining: 2.68s\n",
      "130:\tlearn: 0.0706688\ttotal: 403ms\tremaining: 2.67s\n",
      "131:\tlearn: 0.0706470\ttotal: 405ms\tremaining: 2.66s\n",
      "132:\tlearn: 0.0706298\ttotal: 407ms\tremaining: 2.65s\n",
      "133:\tlearn: 0.0706133\ttotal: 409ms\tremaining: 2.64s\n",
      "134:\tlearn: 0.0705918\ttotal: 411ms\tremaining: 2.63s\n",
      "135:\tlearn: 0.0705764\ttotal: 413ms\tremaining: 2.62s\n",
      "136:\tlearn: 0.0705352\ttotal: 415ms\tremaining: 2.61s\n",
      "137:\tlearn: 0.0705139\ttotal: 417ms\tremaining: 2.6s\n",
      "138:\tlearn: 0.0704987\ttotal: 419ms\tremaining: 2.59s\n",
      "139:\tlearn: 0.0704826\ttotal: 421ms\tremaining: 2.59s\n",
      "140:\tlearn: 0.0704735\ttotal: 423ms\tremaining: 2.58s\n",
      "141:\tlearn: 0.0704543\ttotal: 425ms\tremaining: 2.57s\n",
      "142:\tlearn: 0.0704381\ttotal: 426ms\tremaining: 2.56s\n",
      "143:\tlearn: 0.0704278\ttotal: 428ms\tremaining: 2.55s\n",
      "144:\tlearn: 0.0704139\ttotal: 430ms\tremaining: 2.54s\n",
      "145:\tlearn: 0.0703967\ttotal: 432ms\tremaining: 2.53s\n",
      "146:\tlearn: 0.0703778\ttotal: 434ms\tremaining: 2.52s\n",
      "147:\tlearn: 0.0703575\ttotal: 436ms\tremaining: 2.51s\n",
      "148:\tlearn: 0.0703348\ttotal: 439ms\tremaining: 2.5s\n",
      "149:\tlearn: 0.0703104\ttotal: 441ms\tremaining: 2.5s\n",
      "150:\tlearn: 0.0702973\ttotal: 443ms\tremaining: 2.49s\n",
      "151:\tlearn: 0.0702813\ttotal: 445ms\tremaining: 2.48s\n",
      "152:\tlearn: 0.0702530\ttotal: 447ms\tremaining: 2.47s\n",
      "153:\tlearn: 0.0702381\ttotal: 449ms\tremaining: 2.46s\n",
      "154:\tlearn: 0.0702140\ttotal: 451ms\tremaining: 2.46s\n",
      "155:\tlearn: 0.0702003\ttotal: 453ms\tremaining: 2.45s\n",
      "156:\tlearn: 0.0701899\ttotal: 455ms\tremaining: 2.44s\n",
      "157:\tlearn: 0.0701767\ttotal: 457ms\tremaining: 2.43s\n",
      "158:\tlearn: 0.0701683\ttotal: 459ms\tremaining: 2.42s\n",
      "159:\tlearn: 0.0701615\ttotal: 461ms\tremaining: 2.42s\n",
      "160:\tlearn: 0.0701526\ttotal: 463ms\tremaining: 2.41s\n",
      "161:\tlearn: 0.0701342\ttotal: 465ms\tremaining: 2.4s\n",
      "162:\tlearn: 0.0701133\ttotal: 467ms\tremaining: 2.4s\n",
      "163:\tlearn: 0.0701027\ttotal: 469ms\tremaining: 2.39s\n",
      "164:\tlearn: 0.0700711\ttotal: 471ms\tremaining: 2.38s\n",
      "165:\tlearn: 0.0700511\ttotal: 473ms\tremaining: 2.38s\n",
      "166:\tlearn: 0.0700396\ttotal: 475ms\tremaining: 2.37s\n",
      "167:\tlearn: 0.0700266\ttotal: 477ms\tremaining: 2.36s\n",
      "168:\tlearn: 0.0700153\ttotal: 479ms\tremaining: 2.35s\n",
      "169:\tlearn: 0.0700025\ttotal: 481ms\tremaining: 2.35s\n",
      "170:\tlearn: 0.0699947\ttotal: 483ms\tremaining: 2.34s\n"
     ]
    },
    {
     "name": "stdout",
     "output_type": "stream",
     "text": [
      "171:\tlearn: 0.0699817\ttotal: 485ms\tremaining: 2.33s\n",
      "172:\tlearn: 0.0699616\ttotal: 487ms\tremaining: 2.33s\n",
      "173:\tlearn: 0.0699433\ttotal: 489ms\tremaining: 2.32s\n",
      "174:\tlearn: 0.0699340\ttotal: 491ms\tremaining: 2.31s\n",
      "175:\tlearn: 0.0699238\ttotal: 493ms\tremaining: 2.31s\n",
      "176:\tlearn: 0.0699098\ttotal: 495ms\tremaining: 2.3s\n",
      "177:\tlearn: 0.0698921\ttotal: 497ms\tremaining: 2.3s\n",
      "178:\tlearn: 0.0698817\ttotal: 499ms\tremaining: 2.29s\n",
      "179:\tlearn: 0.0698741\ttotal: 502ms\tremaining: 2.28s\n",
      "180:\tlearn: 0.0698581\ttotal: 504ms\tremaining: 2.28s\n",
      "181:\tlearn: 0.0698495\ttotal: 508ms\tremaining: 2.28s\n",
      "182:\tlearn: 0.0698414\ttotal: 509ms\tremaining: 2.27s\n",
      "183:\tlearn: 0.0698335\ttotal: 511ms\tremaining: 2.27s\n",
      "184:\tlearn: 0.0698221\ttotal: 514ms\tremaining: 2.26s\n",
      "185:\tlearn: 0.0698113\ttotal: 516ms\tremaining: 2.26s\n",
      "186:\tlearn: 0.0697984\ttotal: 518ms\tremaining: 2.25s\n",
      "187:\tlearn: 0.0697885\ttotal: 520ms\tremaining: 2.25s\n",
      "188:\tlearn: 0.0697796\ttotal: 522ms\tremaining: 2.24s\n",
      "189:\tlearn: 0.0697710\ttotal: 524ms\tremaining: 2.23s\n",
      "190:\tlearn: 0.0697598\ttotal: 526ms\tremaining: 2.23s\n",
      "191:\tlearn: 0.0697452\ttotal: 529ms\tremaining: 2.22s\n",
      "192:\tlearn: 0.0697323\ttotal: 533ms\tremaining: 2.23s\n",
      "193:\tlearn: 0.0697252\ttotal: 535ms\tremaining: 2.22s\n",
      "194:\tlearn: 0.0697175\ttotal: 537ms\tremaining: 2.21s\n",
      "195:\tlearn: 0.0697026\ttotal: 539ms\tremaining: 2.21s\n",
      "196:\tlearn: 0.0696967\ttotal: 541ms\tremaining: 2.21s\n",
      "197:\tlearn: 0.0696905\ttotal: 543ms\tremaining: 2.2s\n",
      "198:\tlearn: 0.0696791\ttotal: 545ms\tremaining: 2.19s\n",
      "199:\tlearn: 0.0696711\ttotal: 547ms\tremaining: 2.19s\n",
      "200:\tlearn: 0.0696572\ttotal: 549ms\tremaining: 2.18s\n",
      "201:\tlearn: 0.0696507\ttotal: 551ms\tremaining: 2.18s\n",
      "202:\tlearn: 0.0696408\ttotal: 553ms\tremaining: 2.17s\n",
      "203:\tlearn: 0.0696317\ttotal: 555ms\tremaining: 2.17s\n",
      "204:\tlearn: 0.0696193\ttotal: 557ms\tremaining: 2.16s\n",
      "205:\tlearn: 0.0696120\ttotal: 559ms\tremaining: 2.15s\n",
      "206:\tlearn: 0.0695992\ttotal: 561ms\tremaining: 2.15s\n",
      "207:\tlearn: 0.0695842\ttotal: 563ms\tremaining: 2.14s\n",
      "208:\tlearn: 0.0695751\ttotal: 565ms\tremaining: 2.14s\n",
      "209:\tlearn: 0.0695626\ttotal: 567ms\tremaining: 2.13s\n",
      "210:\tlearn: 0.0695572\ttotal: 569ms\tremaining: 2.13s\n",
      "211:\tlearn: 0.0695460\ttotal: 571ms\tremaining: 2.12s\n",
      "212:\tlearn: 0.0695284\ttotal: 573ms\tremaining: 2.12s\n",
      "213:\tlearn: 0.0695170\ttotal: 575ms\tremaining: 2.11s\n",
      "214:\tlearn: 0.0694951\ttotal: 577ms\tremaining: 2.11s\n",
      "215:\tlearn: 0.0694812\ttotal: 580ms\tremaining: 2.1s\n",
      "216:\tlearn: 0.0694713\ttotal: 581ms\tremaining: 2.1s\n",
      "217:\tlearn: 0.0694516\ttotal: 583ms\tremaining: 2.09s\n",
      "218:\tlearn: 0.0694432\ttotal: 586ms\tremaining: 2.09s\n",
      "219:\tlearn: 0.0694310\ttotal: 588ms\tremaining: 2.08s\n",
      "220:\tlearn: 0.0694218\ttotal: 590ms\tremaining: 2.08s\n",
      "221:\tlearn: 0.0694035\ttotal: 592ms\tremaining: 2.07s\n",
      "222:\tlearn: 0.0693974\ttotal: 594ms\tremaining: 2.07s\n",
      "223:\tlearn: 0.0693904\ttotal: 596ms\tremaining: 2.06s\n",
      "224:\tlearn: 0.0693770\ttotal: 598ms\tremaining: 2.06s\n",
      "225:\tlearn: 0.0693658\ttotal: 600ms\tremaining: 2.06s\n",
      "226:\tlearn: 0.0693559\ttotal: 602ms\tremaining: 2.05s\n",
      "227:\tlearn: 0.0693471\ttotal: 605ms\tremaining: 2.05s\n",
      "228:\tlearn: 0.0693388\ttotal: 606ms\tremaining: 2.04s\n",
      "229:\tlearn: 0.0693305\ttotal: 608ms\tremaining: 2.04s\n",
      "230:\tlearn: 0.0693201\ttotal: 610ms\tremaining: 2.03s\n",
      "231:\tlearn: 0.0693111\ttotal: 612ms\tremaining: 2.03s\n",
      "232:\tlearn: 0.0693028\ttotal: 615ms\tremaining: 2.02s\n",
      "233:\tlearn: 0.0692909\ttotal: 617ms\tremaining: 2.02s\n",
      "234:\tlearn: 0.0692803\ttotal: 619ms\tremaining: 2.01s\n",
      "235:\tlearn: 0.0692739\ttotal: 621ms\tremaining: 2.01s\n",
      "236:\tlearn: 0.0692688\ttotal: 623ms\tremaining: 2s\n",
      "237:\tlearn: 0.0692605\ttotal: 625ms\tremaining: 2s\n",
      "238:\tlearn: 0.0692547\ttotal: 627ms\tremaining: 2s\n",
      "239:\tlearn: 0.0692506\ttotal: 629ms\tremaining: 1.99s\n",
      "240:\tlearn: 0.0692356\ttotal: 631ms\tremaining: 1.99s\n",
      "241:\tlearn: 0.0692273\ttotal: 633ms\tremaining: 1.98s\n",
      "242:\tlearn: 0.0692211\ttotal: 635ms\tremaining: 1.98s\n",
      "243:\tlearn: 0.0692129\ttotal: 637ms\tremaining: 1.97s\n",
      "244:\tlearn: 0.0691983\ttotal: 639ms\tremaining: 1.97s\n",
      "245:\tlearn: 0.0691892\ttotal: 641ms\tremaining: 1.96s\n",
      "246:\tlearn: 0.0691853\ttotal: 643ms\tremaining: 1.96s\n",
      "247:\tlearn: 0.0691792\ttotal: 645ms\tremaining: 1.95s\n",
      "248:\tlearn: 0.0691688\ttotal: 647ms\tremaining: 1.95s\n",
      "249:\tlearn: 0.0691564\ttotal: 648ms\tremaining: 1.95s\n",
      "250:\tlearn: 0.0691468\ttotal: 650ms\tremaining: 1.94s\n",
      "251:\tlearn: 0.0691356\ttotal: 653ms\tremaining: 1.94s\n",
      "252:\tlearn: 0.0691295\ttotal: 655ms\tremaining: 1.93s\n",
      "253:\tlearn: 0.0691199\ttotal: 656ms\tremaining: 1.93s\n",
      "254:\tlearn: 0.0691147\ttotal: 658ms\tremaining: 1.92s\n",
      "255:\tlearn: 0.0691048\ttotal: 661ms\tremaining: 1.92s\n",
      "256:\tlearn: 0.0690935\ttotal: 663ms\tremaining: 1.92s\n",
      "257:\tlearn: 0.0690826\ttotal: 665ms\tremaining: 1.91s\n",
      "258:\tlearn: 0.0690759\ttotal: 667ms\tremaining: 1.91s\n",
      "259:\tlearn: 0.0690666\ttotal: 669ms\tremaining: 1.9s\n",
      "260:\tlearn: 0.0690613\ttotal: 671ms\tremaining: 1.9s\n",
      "261:\tlearn: 0.0690530\ttotal: 673ms\tremaining: 1.89s\n",
      "262:\tlearn: 0.0690455\ttotal: 674ms\tremaining: 1.89s\n",
      "263:\tlearn: 0.0690345\ttotal: 677ms\tremaining: 1.89s\n",
      "264:\tlearn: 0.0690260\ttotal: 678ms\tremaining: 1.88s\n",
      "265:\tlearn: 0.0690161\ttotal: 681ms\tremaining: 1.88s\n",
      "266:\tlearn: 0.0690112\ttotal: 683ms\tremaining: 1.87s\n",
      "267:\tlearn: 0.0690036\ttotal: 684ms\tremaining: 1.87s\n",
      "268:\tlearn: 0.0689998\ttotal: 686ms\tremaining: 1.86s\n",
      "269:\tlearn: 0.0689902\ttotal: 688ms\tremaining: 1.86s\n",
      "270:\tlearn: 0.0689825\ttotal: 690ms\tremaining: 1.86s\n",
      "271:\tlearn: 0.0689736\ttotal: 692ms\tremaining: 1.85s\n",
      "272:\tlearn: 0.0689663\ttotal: 694ms\tremaining: 1.85s\n",
      "273:\tlearn: 0.0689547\ttotal: 696ms\tremaining: 1.84s\n",
      "274:\tlearn: 0.0689510\ttotal: 698ms\tremaining: 1.84s\n",
      "275:\tlearn: 0.0689434\ttotal: 700ms\tremaining: 1.84s\n",
      "276:\tlearn: 0.0689365\ttotal: 702ms\tremaining: 1.83s\n",
      "277:\tlearn: 0.0689310\ttotal: 704ms\tremaining: 1.83s\n",
      "278:\tlearn: 0.0689209\ttotal: 706ms\tremaining: 1.82s\n",
      "279:\tlearn: 0.0689127\ttotal: 707ms\tremaining: 1.82s\n",
      "280:\tlearn: 0.0689032\ttotal: 709ms\tremaining: 1.81s\n",
      "281:\tlearn: 0.0688930\ttotal: 711ms\tremaining: 1.81s\n",
      "282:\tlearn: 0.0688829\ttotal: 713ms\tremaining: 1.81s\n",
      "283:\tlearn: 0.0688772\ttotal: 715ms\tremaining: 1.8s\n",
      "284:\tlearn: 0.0688672\ttotal: 717ms\tremaining: 1.8s\n",
      "285:\tlearn: 0.0688609\ttotal: 719ms\tremaining: 1.79s\n",
      "286:\tlearn: 0.0688539\ttotal: 721ms\tremaining: 1.79s\n",
      "287:\tlearn: 0.0688445\ttotal: 723ms\tremaining: 1.79s\n",
      "288:\tlearn: 0.0688399\ttotal: 724ms\tremaining: 1.78s\n",
      "289:\tlearn: 0.0688329\ttotal: 726ms\tremaining: 1.78s\n",
      "290:\tlearn: 0.0688272\ttotal: 728ms\tremaining: 1.77s\n",
      "291:\tlearn: 0.0688216\ttotal: 730ms\tremaining: 1.77s\n",
      "292:\tlearn: 0.0688152\ttotal: 732ms\tremaining: 1.77s\n",
      "293:\tlearn: 0.0688077\ttotal: 734ms\tremaining: 1.76s\n",
      "294:\tlearn: 0.0687997\ttotal: 736ms\tremaining: 1.76s\n",
      "295:\tlearn: 0.0687897\ttotal: 738ms\tremaining: 1.75s\n",
      "296:\tlearn: 0.0687795\ttotal: 740ms\tremaining: 1.75s\n",
      "297:\tlearn: 0.0687733\ttotal: 742ms\tremaining: 1.75s\n",
      "298:\tlearn: 0.0687652\ttotal: 744ms\tremaining: 1.74s\n",
      "299:\tlearn: 0.0687582\ttotal: 746ms\tremaining: 1.74s\n",
      "300:\tlearn: 0.0687514\ttotal: 748ms\tremaining: 1.74s\n",
      "301:\tlearn: 0.0687427\ttotal: 750ms\tremaining: 1.73s\n",
      "302:\tlearn: 0.0687385\ttotal: 753ms\tremaining: 1.73s\n",
      "303:\tlearn: 0.0687303\ttotal: 755ms\tremaining: 1.73s\n",
      "304:\tlearn: 0.0687226\ttotal: 757ms\tremaining: 1.72s\n",
      "305:\tlearn: 0.0687154\ttotal: 759ms\tremaining: 1.72s\n",
      "306:\tlearn: 0.0687066\ttotal: 761ms\tremaining: 1.72s\n",
      "307:\tlearn: 0.0686975\ttotal: 763ms\tremaining: 1.71s\n",
      "308:\tlearn: 0.0686932\ttotal: 765ms\tremaining: 1.71s\n",
      "309:\tlearn: 0.0686875\ttotal: 767ms\tremaining: 1.71s\n",
      "310:\tlearn: 0.0686829\ttotal: 769ms\tremaining: 1.7s\n",
      "311:\tlearn: 0.0686772\ttotal: 771ms\tremaining: 1.7s\n",
      "312:\tlearn: 0.0686715\ttotal: 773ms\tremaining: 1.7s\n",
      "313:\tlearn: 0.0686665\ttotal: 775ms\tremaining: 1.69s\n",
      "314:\tlearn: 0.0686592\ttotal: 777ms\tremaining: 1.69s\n",
      "315:\tlearn: 0.0686528\ttotal: 779ms\tremaining: 1.69s\n",
      "316:\tlearn: 0.0686468\ttotal: 781ms\tremaining: 1.68s\n",
      "317:\tlearn: 0.0686383\ttotal: 783ms\tremaining: 1.68s\n",
      "318:\tlearn: 0.0686350\ttotal: 785ms\tremaining: 1.68s\n",
      "319:\tlearn: 0.0686316\ttotal: 787ms\tremaining: 1.67s\n",
      "320:\tlearn: 0.0686258\ttotal: 789ms\tremaining: 1.67s\n",
      "321:\tlearn: 0.0686209\ttotal: 791ms\tremaining: 1.67s\n",
      "322:\tlearn: 0.0686133\ttotal: 793ms\tremaining: 1.66s\n",
      "323:\tlearn: 0.0686063\ttotal: 796ms\tremaining: 1.66s\n",
      "324:\tlearn: 0.0685984\ttotal: 798ms\tremaining: 1.66s\n",
      "325:\tlearn: 0.0685951\ttotal: 800ms\tremaining: 1.65s\n",
      "326:\tlearn: 0.0685894\ttotal: 802ms\tremaining: 1.65s\n",
      "327:\tlearn: 0.0685841\ttotal: 804ms\tremaining: 1.65s\n",
      "328:\tlearn: 0.0685755\ttotal: 806ms\tremaining: 1.64s\n",
      "329:\tlearn: 0.0685699\ttotal: 808ms\tremaining: 1.64s\n",
      "330:\tlearn: 0.0685647\ttotal: 810ms\tremaining: 1.64s\n",
      "331:\tlearn: 0.0685602\ttotal: 812ms\tremaining: 1.63s\n",
      "332:\tlearn: 0.0685526\ttotal: 814ms\tremaining: 1.63s\n",
      "333:\tlearn: 0.0685433\ttotal: 816ms\tremaining: 1.63s\n",
      "334:\tlearn: 0.0685387\ttotal: 818ms\tremaining: 1.62s\n",
      "335:\tlearn: 0.0685305\ttotal: 820ms\tremaining: 1.62s\n",
      "336:\tlearn: 0.0685252\ttotal: 822ms\tremaining: 1.62s\n",
      "337:\tlearn: 0.0685188\ttotal: 825ms\tremaining: 1.61s\n"
     ]
    },
    {
     "name": "stdout",
     "output_type": "stream",
     "text": [
      "338:\tlearn: 0.0685094\ttotal: 829ms\tremaining: 1.62s\n",
      "339:\tlearn: 0.0685015\ttotal: 832ms\tremaining: 1.61s\n",
      "340:\tlearn: 0.0684965\ttotal: 834ms\tremaining: 1.61s\n",
      "341:\tlearn: 0.0684926\ttotal: 836ms\tremaining: 1.61s\n",
      "342:\tlearn: 0.0684885\ttotal: 838ms\tremaining: 1.6s\n",
      "343:\tlearn: 0.0684847\ttotal: 840ms\tremaining: 1.6s\n",
      "344:\tlearn: 0.0684729\ttotal: 843ms\tremaining: 1.6s\n",
      "345:\tlearn: 0.0684652\ttotal: 846ms\tremaining: 1.6s\n",
      "346:\tlearn: 0.0684599\ttotal: 848ms\tremaining: 1.59s\n",
      "347:\tlearn: 0.0684545\ttotal: 851ms\tremaining: 1.59s\n",
      "348:\tlearn: 0.0684498\ttotal: 853ms\tremaining: 1.59s\n",
      "349:\tlearn: 0.0684450\ttotal: 855ms\tremaining: 1.59s\n",
      "350:\tlearn: 0.0684392\ttotal: 856ms\tremaining: 1.58s\n",
      "351:\tlearn: 0.0684354\ttotal: 859ms\tremaining: 1.58s\n",
      "352:\tlearn: 0.0684296\ttotal: 861ms\tremaining: 1.58s\n",
      "353:\tlearn: 0.0684243\ttotal: 863ms\tremaining: 1.57s\n",
      "354:\tlearn: 0.0684197\ttotal: 865ms\tremaining: 1.57s\n",
      "355:\tlearn: 0.0684140\ttotal: 867ms\tremaining: 1.57s\n",
      "356:\tlearn: 0.0684098\ttotal: 870ms\tremaining: 1.57s\n",
      "357:\tlearn: 0.0684033\ttotal: 872ms\tremaining: 1.56s\n",
      "358:\tlearn: 0.0683958\ttotal: 874ms\tremaining: 1.56s\n",
      "359:\tlearn: 0.0683918\ttotal: 877ms\tremaining: 1.56s\n",
      "360:\tlearn: 0.0683871\ttotal: 879ms\tremaining: 1.56s\n",
      "361:\tlearn: 0.0683794\ttotal: 881ms\tremaining: 1.55s\n",
      "362:\tlearn: 0.0683768\ttotal: 883ms\tremaining: 1.55s\n",
      "363:\tlearn: 0.0683706\ttotal: 885ms\tremaining: 1.55s\n",
      "364:\tlearn: 0.0683661\ttotal: 887ms\tremaining: 1.54s\n",
      "365:\tlearn: 0.0683624\ttotal: 889ms\tremaining: 1.54s\n",
      "366:\tlearn: 0.0683529\ttotal: 891ms\tremaining: 1.54s\n",
      "367:\tlearn: 0.0683492\ttotal: 892ms\tremaining: 1.53s\n",
      "368:\tlearn: 0.0683460\ttotal: 894ms\tremaining: 1.53s\n",
      "369:\tlearn: 0.0683411\ttotal: 896ms\tremaining: 1.53s\n",
      "370:\tlearn: 0.0683374\ttotal: 898ms\tremaining: 1.52s\n",
      "371:\tlearn: 0.0683324\ttotal: 900ms\tremaining: 1.52s\n",
      "372:\tlearn: 0.0683251\ttotal: 902ms\tremaining: 1.52s\n",
      "373:\tlearn: 0.0683181\ttotal: 904ms\tremaining: 1.51s\n",
      "374:\tlearn: 0.0683126\ttotal: 906ms\tremaining: 1.51s\n",
      "375:\tlearn: 0.0683089\ttotal: 908ms\tremaining: 1.51s\n",
      "376:\tlearn: 0.0683054\ttotal: 910ms\tremaining: 1.5s\n",
      "377:\tlearn: 0.0683004\ttotal: 912ms\tremaining: 1.5s\n",
      "378:\tlearn: 0.0682939\ttotal: 914ms\tremaining: 1.5s\n",
      "379:\tlearn: 0.0682891\ttotal: 916ms\tremaining: 1.49s\n",
      "380:\tlearn: 0.0682849\ttotal: 918ms\tremaining: 1.49s\n",
      "381:\tlearn: 0.0682799\ttotal: 920ms\tremaining: 1.49s\n",
      "382:\tlearn: 0.0682748\ttotal: 922ms\tremaining: 1.49s\n",
      "383:\tlearn: 0.0682688\ttotal: 924ms\tremaining: 1.48s\n",
      "384:\tlearn: 0.0682654\ttotal: 926ms\tremaining: 1.48s\n",
      "385:\tlearn: 0.0682622\ttotal: 928ms\tremaining: 1.48s\n",
      "386:\tlearn: 0.0682579\ttotal: 931ms\tremaining: 1.47s\n",
      "387:\tlearn: 0.0682514\ttotal: 933ms\tremaining: 1.47s\n",
      "388:\tlearn: 0.0682448\ttotal: 935ms\tremaining: 1.47s\n",
      "389:\tlearn: 0.0682371\ttotal: 937ms\tremaining: 1.47s\n",
      "390:\tlearn: 0.0682341\ttotal: 939ms\tremaining: 1.46s\n",
      "391:\tlearn: 0.0682310\ttotal: 941ms\tremaining: 1.46s\n",
      "392:\tlearn: 0.0682267\ttotal: 944ms\tremaining: 1.46s\n",
      "393:\tlearn: 0.0682203\ttotal: 946ms\tremaining: 1.45s\n",
      "394:\tlearn: 0.0682110\ttotal: 948ms\tremaining: 1.45s\n",
      "395:\tlearn: 0.0682078\ttotal: 950ms\tremaining: 1.45s\n",
      "396:\tlearn: 0.0682012\ttotal: 952ms\tremaining: 1.45s\n",
      "397:\tlearn: 0.0681962\ttotal: 954ms\tremaining: 1.44s\n",
      "398:\tlearn: 0.0681909\ttotal: 957ms\tremaining: 1.44s\n",
      "399:\tlearn: 0.0681870\ttotal: 959ms\tremaining: 1.44s\n",
      "400:\tlearn: 0.0681813\ttotal: 961ms\tremaining: 1.44s\n",
      "401:\tlearn: 0.0681752\ttotal: 963ms\tremaining: 1.43s\n",
      "402:\tlearn: 0.0681710\ttotal: 965ms\tremaining: 1.43s\n",
      "403:\tlearn: 0.0681653\ttotal: 968ms\tremaining: 1.43s\n",
      "404:\tlearn: 0.0681617\ttotal: 970ms\tremaining: 1.42s\n",
      "405:\tlearn: 0.0681572\ttotal: 972ms\tremaining: 1.42s\n",
      "406:\tlearn: 0.0681492\ttotal: 974ms\tremaining: 1.42s\n",
      "407:\tlearn: 0.0681440\ttotal: 976ms\tremaining: 1.42s\n",
      "408:\tlearn: 0.0681401\ttotal: 978ms\tremaining: 1.41s\n",
      "409:\tlearn: 0.0681365\ttotal: 981ms\tremaining: 1.41s\n",
      "410:\tlearn: 0.0681328\ttotal: 983ms\tremaining: 1.41s\n",
      "411:\tlearn: 0.0681267\ttotal: 985ms\tremaining: 1.41s\n",
      "412:\tlearn: 0.0681177\ttotal: 988ms\tremaining: 1.4s\n",
      "413:\tlearn: 0.0681151\ttotal: 990ms\tremaining: 1.4s\n",
      "414:\tlearn: 0.0681119\ttotal: 992ms\tremaining: 1.4s\n",
      "415:\tlearn: 0.0681088\ttotal: 994ms\tremaining: 1.4s\n",
      "416:\tlearn: 0.0681066\ttotal: 996ms\tremaining: 1.39s\n",
      "417:\tlearn: 0.0681021\ttotal: 999ms\tremaining: 1.39s\n",
      "418:\tlearn: 0.0680958\ttotal: 1s\tremaining: 1.39s\n",
      "419:\tlearn: 0.0680913\ttotal: 1s\tremaining: 1.38s\n",
      "420:\tlearn: 0.0680845\ttotal: 1s\tremaining: 1.38s\n",
      "421:\tlearn: 0.0680780\ttotal: 1.01s\tremaining: 1.38s\n",
      "422:\tlearn: 0.0680745\ttotal: 1.01s\tremaining: 1.38s\n",
      "423:\tlearn: 0.0680657\ttotal: 1.01s\tremaining: 1.38s\n",
      "424:\tlearn: 0.0680629\ttotal: 1.01s\tremaining: 1.37s\n",
      "425:\tlearn: 0.0680606\ttotal: 1.02s\tremaining: 1.37s\n",
      "426:\tlearn: 0.0680551\ttotal: 1.02s\tremaining: 1.37s\n",
      "427:\tlearn: 0.0680462\ttotal: 1.02s\tremaining: 1.36s\n",
      "428:\tlearn: 0.0680407\ttotal: 1.02s\tremaining: 1.36s\n",
      "429:\tlearn: 0.0680334\ttotal: 1.02s\tremaining: 1.36s\n",
      "430:\tlearn: 0.0680313\ttotal: 1.03s\tremaining: 1.36s\n",
      "431:\tlearn: 0.0680274\ttotal: 1.03s\tremaining: 1.35s\n",
      "432:\tlearn: 0.0680237\ttotal: 1.03s\tremaining: 1.35s\n",
      "433:\tlearn: 0.0680184\ttotal: 1.03s\tremaining: 1.35s\n",
      "434:\tlearn: 0.0680152\ttotal: 1.03s\tremaining: 1.34s\n",
      "435:\tlearn: 0.0680128\ttotal: 1.04s\tremaining: 1.34s\n",
      "436:\tlearn: 0.0680070\ttotal: 1.04s\tremaining: 1.34s\n",
      "437:\tlearn: 0.0680018\ttotal: 1.04s\tremaining: 1.34s\n",
      "438:\tlearn: 0.0679987\ttotal: 1.04s\tremaining: 1.33s\n",
      "439:\tlearn: 0.0679926\ttotal: 1.05s\tremaining: 1.33s\n",
      "440:\tlearn: 0.0679872\ttotal: 1.05s\tremaining: 1.33s\n",
      "441:\tlearn: 0.0679850\ttotal: 1.05s\tremaining: 1.33s\n",
      "442:\tlearn: 0.0679826\ttotal: 1.05s\tremaining: 1.32s\n",
      "443:\tlearn: 0.0679789\ttotal: 1.05s\tremaining: 1.32s\n",
      "444:\tlearn: 0.0679722\ttotal: 1.06s\tremaining: 1.32s\n",
      "445:\tlearn: 0.0679696\ttotal: 1.06s\tremaining: 1.31s\n",
      "446:\tlearn: 0.0679647\ttotal: 1.06s\tremaining: 1.31s\n",
      "447:\tlearn: 0.0679592\ttotal: 1.06s\tremaining: 1.31s\n",
      "448:\tlearn: 0.0679528\ttotal: 1.06s\tremaining: 1.31s\n",
      "449:\tlearn: 0.0679454\ttotal: 1.07s\tremaining: 1.3s\n",
      "450:\tlearn: 0.0679417\ttotal: 1.07s\tremaining: 1.3s\n",
      "451:\tlearn: 0.0679384\ttotal: 1.07s\tremaining: 1.3s\n",
      "452:\tlearn: 0.0679358\ttotal: 1.07s\tremaining: 1.3s\n",
      "453:\tlearn: 0.0679322\ttotal: 1.07s\tremaining: 1.29s\n",
      "454:\tlearn: 0.0679270\ttotal: 1.08s\tremaining: 1.29s\n",
      "455:\tlearn: 0.0679194\ttotal: 1.08s\tremaining: 1.29s\n",
      "456:\tlearn: 0.0679145\ttotal: 1.08s\tremaining: 1.28s\n",
      "457:\tlearn: 0.0679123\ttotal: 1.08s\tremaining: 1.28s\n",
      "458:\tlearn: 0.0679071\ttotal: 1.09s\tremaining: 1.28s\n",
      "459:\tlearn: 0.0679039\ttotal: 1.09s\tremaining: 1.28s\n",
      "460:\tlearn: 0.0678994\ttotal: 1.09s\tremaining: 1.27s\n",
      "461:\tlearn: 0.0678939\ttotal: 1.09s\tremaining: 1.27s\n",
      "462:\tlearn: 0.0678899\ttotal: 1.09s\tremaining: 1.27s\n",
      "463:\tlearn: 0.0678854\ttotal: 1.1s\tremaining: 1.27s\n",
      "464:\tlearn: 0.0678819\ttotal: 1.1s\tremaining: 1.26s\n",
      "465:\tlearn: 0.0678792\ttotal: 1.1s\tremaining: 1.26s\n",
      "466:\tlearn: 0.0678742\ttotal: 1.1s\tremaining: 1.26s\n",
      "467:\tlearn: 0.0678711\ttotal: 1.1s\tremaining: 1.25s\n",
      "468:\tlearn: 0.0678649\ttotal: 1.11s\tremaining: 1.25s\n",
      "469:\tlearn: 0.0678610\ttotal: 1.11s\tremaining: 1.25s\n",
      "470:\tlearn: 0.0678564\ttotal: 1.11s\tremaining: 1.25s\n",
      "471:\tlearn: 0.0678528\ttotal: 1.11s\tremaining: 1.24s\n",
      "472:\tlearn: 0.0678494\ttotal: 1.11s\tremaining: 1.24s\n",
      "473:\tlearn: 0.0678449\ttotal: 1.11s\tremaining: 1.24s\n",
      "474:\tlearn: 0.0678402\ttotal: 1.12s\tremaining: 1.24s\n",
      "475:\tlearn: 0.0678361\ttotal: 1.12s\tremaining: 1.23s\n",
      "476:\tlearn: 0.0678332\ttotal: 1.12s\tremaining: 1.23s\n",
      "477:\tlearn: 0.0678307\ttotal: 1.12s\tremaining: 1.23s\n",
      "478:\tlearn: 0.0678259\ttotal: 1.13s\tremaining: 1.22s\n",
      "479:\tlearn: 0.0678229\ttotal: 1.13s\tremaining: 1.22s\n",
      "480:\tlearn: 0.0678196\ttotal: 1.13s\tremaining: 1.22s\n",
      "481:\tlearn: 0.0678165\ttotal: 1.13s\tremaining: 1.22s\n",
      "482:\tlearn: 0.0678129\ttotal: 1.13s\tremaining: 1.21s\n",
      "483:\tlearn: 0.0678096\ttotal: 1.14s\tremaining: 1.21s\n",
      "484:\tlearn: 0.0678030\ttotal: 1.14s\tremaining: 1.21s\n",
      "485:\tlearn: 0.0678000\ttotal: 1.14s\tremaining: 1.21s\n",
      "486:\tlearn: 0.0677970\ttotal: 1.14s\tremaining: 1.2s\n",
      "487:\tlearn: 0.0677930\ttotal: 1.14s\tremaining: 1.2s\n",
      "488:\tlearn: 0.0677897\ttotal: 1.15s\tremaining: 1.2s\n",
      "489:\tlearn: 0.0677870\ttotal: 1.15s\tremaining: 1.19s\n",
      "490:\tlearn: 0.0677823\ttotal: 1.15s\tremaining: 1.19s\n",
      "491:\tlearn: 0.0677787\ttotal: 1.15s\tremaining: 1.19s\n",
      "492:\tlearn: 0.0677699\ttotal: 1.15s\tremaining: 1.19s\n",
      "493:\tlearn: 0.0677651\ttotal: 1.16s\tremaining: 1.18s\n",
      "494:\tlearn: 0.0677608\ttotal: 1.16s\tremaining: 1.18s\n",
      "495:\tlearn: 0.0677575\ttotal: 1.16s\tremaining: 1.18s\n",
      "496:\tlearn: 0.0677546\ttotal: 1.16s\tremaining: 1.18s\n",
      "497:\tlearn: 0.0677488\ttotal: 1.16s\tremaining: 1.17s\n",
      "498:\tlearn: 0.0677430\ttotal: 1.17s\tremaining: 1.17s\n",
      "499:\tlearn: 0.0677394\ttotal: 1.17s\tremaining: 1.17s\n",
      "500:\tlearn: 0.0677355\ttotal: 1.17s\tremaining: 1.16s\n",
      "501:\tlearn: 0.0677327\ttotal: 1.17s\tremaining: 1.16s\n",
      "502:\tlearn: 0.0677297\ttotal: 1.17s\tremaining: 1.16s\n",
      "503:\tlearn: 0.0677277\ttotal: 1.17s\tremaining: 1.16s\n",
      "504:\tlearn: 0.0677237\ttotal: 1.18s\tremaining: 1.15s\n",
      "505:\tlearn: 0.0677198\ttotal: 1.18s\tremaining: 1.15s\n",
      "506:\tlearn: 0.0677149\ttotal: 1.18s\tremaining: 1.15s\n"
     ]
    },
    {
     "name": "stdout",
     "output_type": "stream",
     "text": [
      "507:\tlearn: 0.0677116\ttotal: 1.18s\tremaining: 1.15s\n",
      "508:\tlearn: 0.0677076\ttotal: 1.19s\tremaining: 1.14s\n",
      "509:\tlearn: 0.0677051\ttotal: 1.19s\tremaining: 1.14s\n",
      "510:\tlearn: 0.0677024\ttotal: 1.19s\tremaining: 1.14s\n",
      "511:\tlearn: 0.0676998\ttotal: 1.19s\tremaining: 1.14s\n",
      "512:\tlearn: 0.0676952\ttotal: 1.19s\tremaining: 1.13s\n",
      "513:\tlearn: 0.0676896\ttotal: 1.2s\tremaining: 1.13s\n",
      "514:\tlearn: 0.0676863\ttotal: 1.2s\tremaining: 1.13s\n",
      "515:\tlearn: 0.0676833\ttotal: 1.2s\tremaining: 1.12s\n",
      "516:\tlearn: 0.0676805\ttotal: 1.2s\tremaining: 1.12s\n",
      "517:\tlearn: 0.0676770\ttotal: 1.2s\tremaining: 1.12s\n",
      "518:\tlearn: 0.0676749\ttotal: 1.2s\tremaining: 1.12s\n",
      "519:\tlearn: 0.0676710\ttotal: 1.21s\tremaining: 1.11s\n",
      "520:\tlearn: 0.0676667\ttotal: 1.21s\tremaining: 1.11s\n",
      "521:\tlearn: 0.0676640\ttotal: 1.21s\tremaining: 1.11s\n",
      "522:\tlearn: 0.0676548\ttotal: 1.21s\tremaining: 1.1s\n",
      "523:\tlearn: 0.0676502\ttotal: 1.21s\tremaining: 1.1s\n",
      "524:\tlearn: 0.0676444\ttotal: 1.22s\tremaining: 1.1s\n",
      "525:\tlearn: 0.0676408\ttotal: 1.22s\tremaining: 1.1s\n",
      "526:\tlearn: 0.0676387\ttotal: 1.22s\tremaining: 1.09s\n",
      "527:\tlearn: 0.0676366\ttotal: 1.22s\tremaining: 1.09s\n",
      "528:\tlearn: 0.0676308\ttotal: 1.22s\tremaining: 1.09s\n",
      "529:\tlearn: 0.0676258\ttotal: 1.23s\tremaining: 1.09s\n",
      "530:\tlearn: 0.0676220\ttotal: 1.23s\tremaining: 1.08s\n",
      "531:\tlearn: 0.0676194\ttotal: 1.23s\tremaining: 1.08s\n",
      "532:\tlearn: 0.0676167\ttotal: 1.23s\tremaining: 1.08s\n",
      "533:\tlearn: 0.0676148\ttotal: 1.23s\tremaining: 1.08s\n",
      "534:\tlearn: 0.0676112\ttotal: 1.24s\tremaining: 1.07s\n",
      "535:\tlearn: 0.0676093\ttotal: 1.24s\tremaining: 1.07s\n",
      "536:\tlearn: 0.0676016\ttotal: 1.24s\tremaining: 1.07s\n",
      "537:\tlearn: 0.0675986\ttotal: 1.24s\tremaining: 1.07s\n",
      "538:\tlearn: 0.0675968\ttotal: 1.24s\tremaining: 1.06s\n",
      "539:\tlearn: 0.0675911\ttotal: 1.25s\tremaining: 1.06s\n",
      "540:\tlearn: 0.0675891\ttotal: 1.25s\tremaining: 1.06s\n",
      "541:\tlearn: 0.0675862\ttotal: 1.25s\tremaining: 1.05s\n",
      "542:\tlearn: 0.0675811\ttotal: 1.25s\tremaining: 1.05s\n",
      "543:\tlearn: 0.0675772\ttotal: 1.25s\tremaining: 1.05s\n",
      "544:\tlearn: 0.0675736\ttotal: 1.25s\tremaining: 1.05s\n",
      "545:\tlearn: 0.0675712\ttotal: 1.26s\tremaining: 1.04s\n",
      "546:\tlearn: 0.0675673\ttotal: 1.26s\tremaining: 1.04s\n",
      "547:\tlearn: 0.0675626\ttotal: 1.26s\tremaining: 1.04s\n",
      "548:\tlearn: 0.0675595\ttotal: 1.26s\tremaining: 1.04s\n",
      "549:\tlearn: 0.0675540\ttotal: 1.26s\tremaining: 1.03s\n",
      "550:\tlearn: 0.0675456\ttotal: 1.27s\tremaining: 1.03s\n",
      "551:\tlearn: 0.0675410\ttotal: 1.27s\tremaining: 1.03s\n",
      "552:\tlearn: 0.0675379\ttotal: 1.27s\tremaining: 1.03s\n",
      "553:\tlearn: 0.0675340\ttotal: 1.27s\tremaining: 1.02s\n",
      "554:\tlearn: 0.0675295\ttotal: 1.27s\tremaining: 1.02s\n",
      "555:\tlearn: 0.0675272\ttotal: 1.28s\tremaining: 1.02s\n",
      "556:\tlearn: 0.0675226\ttotal: 1.28s\tremaining: 1.02s\n",
      "557:\tlearn: 0.0675194\ttotal: 1.28s\tremaining: 1.01s\n",
      "558:\tlearn: 0.0675146\ttotal: 1.28s\tremaining: 1.01s\n",
      "559:\tlearn: 0.0675112\ttotal: 1.28s\tremaining: 1.01s\n",
      "560:\tlearn: 0.0675093\ttotal: 1.29s\tremaining: 1.01s\n",
      "561:\tlearn: 0.0675054\ttotal: 1.29s\tremaining: 1s\n",
      "562:\tlearn: 0.0675025\ttotal: 1.29s\tremaining: 1s\n",
      "563:\tlearn: 0.0675005\ttotal: 1.29s\tremaining: 1000ms\n",
      "564:\tlearn: 0.0674958\ttotal: 1.29s\tremaining: 997ms\n",
      "565:\tlearn: 0.0674928\ttotal: 1.3s\tremaining: 995ms\n",
      "566:\tlearn: 0.0674892\ttotal: 1.3s\tremaining: 992ms\n",
      "567:\tlearn: 0.0674861\ttotal: 1.3s\tremaining: 990ms\n",
      "568:\tlearn: 0.0674822\ttotal: 1.3s\tremaining: 987ms\n",
      "569:\tlearn: 0.0674798\ttotal: 1.3s\tremaining: 984ms\n",
      "570:\tlearn: 0.0674728\ttotal: 1.31s\tremaining: 982ms\n",
      "571:\tlearn: 0.0674711\ttotal: 1.31s\tremaining: 979ms\n",
      "572:\tlearn: 0.0674683\ttotal: 1.31s\tremaining: 977ms\n",
      "573:\tlearn: 0.0674633\ttotal: 1.31s\tremaining: 974ms\n",
      "574:\tlearn: 0.0674617\ttotal: 1.31s\tremaining: 972ms\n",
      "575:\tlearn: 0.0674563\ttotal: 1.32s\tremaining: 970ms\n",
      "576:\tlearn: 0.0674530\ttotal: 1.32s\tremaining: 967ms\n",
      "577:\tlearn: 0.0674479\ttotal: 1.32s\tremaining: 965ms\n",
      "578:\tlearn: 0.0674446\ttotal: 1.32s\tremaining: 962ms\n",
      "579:\tlearn: 0.0674417\ttotal: 1.32s\tremaining: 960ms\n",
      "580:\tlearn: 0.0674390\ttotal: 1.33s\tremaining: 957ms\n",
      "581:\tlearn: 0.0674365\ttotal: 1.33s\tremaining: 955ms\n",
      "582:\tlearn: 0.0674345\ttotal: 1.33s\tremaining: 952ms\n",
      "583:\tlearn: 0.0674326\ttotal: 1.33s\tremaining: 950ms\n",
      "584:\tlearn: 0.0674283\ttotal: 1.33s\tremaining: 947ms\n",
      "585:\tlearn: 0.0674253\ttotal: 1.34s\tremaining: 945ms\n",
      "586:\tlearn: 0.0674223\ttotal: 1.34s\tremaining: 942ms\n",
      "587:\tlearn: 0.0674189\ttotal: 1.34s\tremaining: 940ms\n",
      "588:\tlearn: 0.0674171\ttotal: 1.34s\tremaining: 937ms\n",
      "589:\tlearn: 0.0674135\ttotal: 1.34s\tremaining: 935ms\n",
      "590:\tlearn: 0.0674092\ttotal: 1.35s\tremaining: 932ms\n",
      "591:\tlearn: 0.0674044\ttotal: 1.35s\tremaining: 930ms\n",
      "592:\tlearn: 0.0674020\ttotal: 1.35s\tremaining: 927ms\n",
      "593:\tlearn: 0.0673982\ttotal: 1.35s\tremaining: 925ms\n",
      "594:\tlearn: 0.0673932\ttotal: 1.35s\tremaining: 923ms\n",
      "595:\tlearn: 0.0673914\ttotal: 1.36s\tremaining: 920ms\n",
      "596:\tlearn: 0.0673884\ttotal: 1.36s\tremaining: 918ms\n",
      "597:\tlearn: 0.0673872\ttotal: 1.36s\tremaining: 915ms\n",
      "598:\tlearn: 0.0673835\ttotal: 1.36s\tremaining: 913ms\n",
      "599:\tlearn: 0.0673787\ttotal: 1.37s\tremaining: 911ms\n",
      "600:\tlearn: 0.0673768\ttotal: 1.37s\tremaining: 908ms\n",
      "601:\tlearn: 0.0673716\ttotal: 1.37s\tremaining: 906ms\n",
      "602:\tlearn: 0.0673670\ttotal: 1.37s\tremaining: 904ms\n",
      "603:\tlearn: 0.0673646\ttotal: 1.37s\tremaining: 901ms\n",
      "604:\tlearn: 0.0673621\ttotal: 1.38s\tremaining: 899ms\n",
      "605:\tlearn: 0.0673588\ttotal: 1.38s\tremaining: 896ms\n",
      "606:\tlearn: 0.0673550\ttotal: 1.38s\tremaining: 894ms\n",
      "607:\tlearn: 0.0673510\ttotal: 1.38s\tremaining: 891ms\n",
      "608:\tlearn: 0.0673454\ttotal: 1.38s\tremaining: 889ms\n",
      "609:\tlearn: 0.0673409\ttotal: 1.39s\tremaining: 887ms\n",
      "610:\tlearn: 0.0673378\ttotal: 1.39s\tremaining: 884ms\n",
      "611:\tlearn: 0.0673315\ttotal: 1.39s\tremaining: 882ms\n",
      "612:\tlearn: 0.0673225\ttotal: 1.39s\tremaining: 879ms\n",
      "613:\tlearn: 0.0673206\ttotal: 1.4s\tremaining: 877ms\n",
      "614:\tlearn: 0.0673180\ttotal: 1.4s\tremaining: 875ms\n",
      "615:\tlearn: 0.0673165\ttotal: 1.4s\tremaining: 872ms\n",
      "616:\tlearn: 0.0673144\ttotal: 1.4s\tremaining: 870ms\n",
      "617:\tlearn: 0.0673116\ttotal: 1.4s\tremaining: 868ms\n",
      "618:\tlearn: 0.0673057\ttotal: 1.41s\tremaining: 865ms\n",
      "619:\tlearn: 0.0673012\ttotal: 1.41s\tremaining: 863ms\n",
      "620:\tlearn: 0.0672979\ttotal: 1.41s\tremaining: 860ms\n",
      "621:\tlearn: 0.0672958\ttotal: 1.41s\tremaining: 858ms\n",
      "622:\tlearn: 0.0672933\ttotal: 1.41s\tremaining: 855ms\n",
      "623:\tlearn: 0.0672907\ttotal: 1.42s\tremaining: 853ms\n",
      "624:\tlearn: 0.0672882\ttotal: 1.42s\tremaining: 850ms\n",
      "625:\tlearn: 0.0672837\ttotal: 1.42s\tremaining: 848ms\n",
      "626:\tlearn: 0.0672807\ttotal: 1.42s\tremaining: 845ms\n",
      "627:\tlearn: 0.0672791\ttotal: 1.42s\tremaining: 843ms\n",
      "628:\tlearn: 0.0672728\ttotal: 1.42s\tremaining: 840ms\n",
      "629:\tlearn: 0.0672711\ttotal: 1.43s\tremaining: 838ms\n",
      "630:\tlearn: 0.0672670\ttotal: 1.43s\tremaining: 836ms\n",
      "631:\tlearn: 0.0672655\ttotal: 1.43s\tremaining: 833ms\n",
      "632:\tlearn: 0.0672631\ttotal: 1.43s\tremaining: 831ms\n",
      "633:\tlearn: 0.0672587\ttotal: 1.43s\tremaining: 828ms\n",
      "634:\tlearn: 0.0672535\ttotal: 1.44s\tremaining: 826ms\n",
      "635:\tlearn: 0.0672512\ttotal: 1.44s\tremaining: 824ms\n",
      "636:\tlearn: 0.0672467\ttotal: 1.44s\tremaining: 821ms\n",
      "637:\tlearn: 0.0672438\ttotal: 1.44s\tremaining: 819ms\n",
      "638:\tlearn: 0.0672421\ttotal: 1.45s\tremaining: 817ms\n",
      "639:\tlearn: 0.0672389\ttotal: 1.45s\tremaining: 814ms\n",
      "640:\tlearn: 0.0672359\ttotal: 1.45s\tremaining: 812ms\n",
      "641:\tlearn: 0.0672340\ttotal: 1.45s\tremaining: 810ms\n",
      "642:\tlearn: 0.0672299\ttotal: 1.45s\tremaining: 807ms\n",
      "643:\tlearn: 0.0672274\ttotal: 1.46s\tremaining: 805ms\n",
      "644:\tlearn: 0.0672246\ttotal: 1.46s\tremaining: 802ms\n",
      "645:\tlearn: 0.0672230\ttotal: 1.46s\tremaining: 800ms\n",
      "646:\tlearn: 0.0672172\ttotal: 1.46s\tremaining: 798ms\n",
      "647:\tlearn: 0.0672137\ttotal: 1.46s\tremaining: 795ms\n",
      "648:\tlearn: 0.0672106\ttotal: 1.47s\tremaining: 793ms\n",
      "649:\tlearn: 0.0672068\ttotal: 1.47s\tremaining: 791ms\n",
      "650:\tlearn: 0.0672038\ttotal: 1.47s\tremaining: 788ms\n",
      "651:\tlearn: 0.0671998\ttotal: 1.47s\tremaining: 786ms\n",
      "652:\tlearn: 0.0671983\ttotal: 1.47s\tremaining: 784ms\n",
      "653:\tlearn: 0.0671940\ttotal: 1.48s\tremaining: 781ms\n",
      "654:\tlearn: 0.0671924\ttotal: 1.48s\tremaining: 779ms\n",
      "655:\tlearn: 0.0671893\ttotal: 1.48s\tremaining: 776ms\n",
      "656:\tlearn: 0.0671837\ttotal: 1.48s\tremaining: 774ms\n",
      "657:\tlearn: 0.0671814\ttotal: 1.48s\tremaining: 772ms\n",
      "658:\tlearn: 0.0671775\ttotal: 1.49s\tremaining: 769ms\n",
      "659:\tlearn: 0.0671748\ttotal: 1.49s\tremaining: 767ms\n",
      "660:\tlearn: 0.0671720\ttotal: 1.49s\tremaining: 764ms\n",
      "661:\tlearn: 0.0671668\ttotal: 1.49s\tremaining: 762ms\n",
      "662:\tlearn: 0.0671643\ttotal: 1.49s\tremaining: 760ms\n",
      "663:\tlearn: 0.0671570\ttotal: 1.5s\tremaining: 757ms\n",
      "664:\tlearn: 0.0671495\ttotal: 1.5s\tremaining: 755ms\n",
      "665:\tlearn: 0.0671462\ttotal: 1.5s\tremaining: 753ms\n",
      "666:\tlearn: 0.0671435\ttotal: 1.5s\tremaining: 750ms\n",
      "667:\tlearn: 0.0671389\ttotal: 1.5s\tremaining: 748ms\n",
      "668:\tlearn: 0.0671375\ttotal: 1.51s\tremaining: 746ms\n",
      "669:\tlearn: 0.0671335\ttotal: 1.51s\tremaining: 743ms\n",
      "670:\tlearn: 0.0671308\ttotal: 1.51s\tremaining: 741ms\n",
      "671:\tlearn: 0.0671261\ttotal: 1.51s\tremaining: 739ms\n",
      "672:\tlearn: 0.0671239\ttotal: 1.51s\tremaining: 736ms\n",
      "673:\tlearn: 0.0671217\ttotal: 1.52s\tremaining: 734ms\n",
      "674:\tlearn: 0.0671175\ttotal: 1.52s\tremaining: 732ms\n",
      "675:\tlearn: 0.0671123\ttotal: 1.52s\tremaining: 729ms\n",
      "676:\tlearn: 0.0671092\ttotal: 1.52s\tremaining: 727ms\n",
      "677:\tlearn: 0.0671074\ttotal: 1.52s\tremaining: 725ms\n"
     ]
    },
    {
     "name": "stdout",
     "output_type": "stream",
     "text": [
      "678:\tlearn: 0.0671052\ttotal: 1.53s\tremaining: 722ms\n",
      "679:\tlearn: 0.0671029\ttotal: 1.53s\tremaining: 720ms\n",
      "680:\tlearn: 0.0671011\ttotal: 1.53s\tremaining: 717ms\n",
      "681:\tlearn: 0.0670974\ttotal: 1.53s\tremaining: 715ms\n",
      "682:\tlearn: 0.0670961\ttotal: 1.53s\tremaining: 713ms\n",
      "683:\tlearn: 0.0670929\ttotal: 1.54s\tremaining: 711ms\n",
      "684:\tlearn: 0.0670852\ttotal: 1.54s\tremaining: 709ms\n",
      "685:\tlearn: 0.0670808\ttotal: 1.54s\tremaining: 706ms\n",
      "686:\tlearn: 0.0670773\ttotal: 1.54s\tremaining: 704ms\n",
      "687:\tlearn: 0.0670752\ttotal: 1.55s\tremaining: 702ms\n",
      "688:\tlearn: 0.0670712\ttotal: 1.55s\tremaining: 699ms\n",
      "689:\tlearn: 0.0670668\ttotal: 1.55s\tremaining: 697ms\n",
      "690:\tlearn: 0.0670635\ttotal: 1.55s\tremaining: 695ms\n",
      "691:\tlearn: 0.0670583\ttotal: 1.55s\tremaining: 692ms\n",
      "692:\tlearn: 0.0670507\ttotal: 1.56s\tremaining: 690ms\n",
      "693:\tlearn: 0.0670469\ttotal: 1.56s\tremaining: 688ms\n",
      "694:\tlearn: 0.0670421\ttotal: 1.56s\tremaining: 685ms\n",
      "695:\tlearn: 0.0670351\ttotal: 1.56s\tremaining: 683ms\n",
      "696:\tlearn: 0.0670320\ttotal: 1.57s\tremaining: 681ms\n",
      "697:\tlearn: 0.0670308\ttotal: 1.57s\tremaining: 678ms\n",
      "698:\tlearn: 0.0670294\ttotal: 1.57s\tremaining: 676ms\n",
      "699:\tlearn: 0.0670243\ttotal: 1.57s\tremaining: 674ms\n",
      "700:\tlearn: 0.0670209\ttotal: 1.57s\tremaining: 672ms\n",
      "701:\tlearn: 0.0670189\ttotal: 1.58s\tremaining: 669ms\n",
      "702:\tlearn: 0.0670163\ttotal: 1.58s\tremaining: 667ms\n",
      "703:\tlearn: 0.0670135\ttotal: 1.58s\tremaining: 665ms\n",
      "704:\tlearn: 0.0670111\ttotal: 1.58s\tremaining: 662ms\n",
      "705:\tlearn: 0.0670075\ttotal: 1.58s\tremaining: 660ms\n",
      "706:\tlearn: 0.0670051\ttotal: 1.59s\tremaining: 658ms\n",
      "707:\tlearn: 0.0670021\ttotal: 1.59s\tremaining: 655ms\n",
      "708:\tlearn: 0.0669992\ttotal: 1.59s\tremaining: 653ms\n",
      "709:\tlearn: 0.0669978\ttotal: 1.59s\tremaining: 651ms\n",
      "710:\tlearn: 0.0669899\ttotal: 1.59s\tremaining: 648ms\n",
      "711:\tlearn: 0.0669865\ttotal: 1.6s\tremaining: 646ms\n",
      "712:\tlearn: 0.0669835\ttotal: 1.6s\tremaining: 644ms\n",
      "713:\tlearn: 0.0669792\ttotal: 1.6s\tremaining: 641ms\n",
      "714:\tlearn: 0.0669759\ttotal: 1.6s\tremaining: 639ms\n",
      "715:\tlearn: 0.0669746\ttotal: 1.6s\tremaining: 637ms\n",
      "716:\tlearn: 0.0669731\ttotal: 1.61s\tremaining: 634ms\n",
      "717:\tlearn: 0.0669703\ttotal: 1.61s\tremaining: 632ms\n",
      "718:\tlearn: 0.0669662\ttotal: 1.61s\tremaining: 630ms\n",
      "719:\tlearn: 0.0669640\ttotal: 1.61s\tremaining: 627ms\n",
      "720:\tlearn: 0.0669574\ttotal: 1.61s\tremaining: 625ms\n",
      "721:\tlearn: 0.0669560\ttotal: 1.62s\tremaining: 622ms\n",
      "722:\tlearn: 0.0669516\ttotal: 1.62s\tremaining: 620ms\n",
      "723:\tlearn: 0.0669474\ttotal: 1.62s\tremaining: 618ms\n",
      "724:\tlearn: 0.0669451\ttotal: 1.62s\tremaining: 615ms\n",
      "725:\tlearn: 0.0669414\ttotal: 1.62s\tremaining: 613ms\n",
      "726:\tlearn: 0.0669390\ttotal: 1.63s\tremaining: 611ms\n",
      "727:\tlearn: 0.0669370\ttotal: 1.63s\tremaining: 608ms\n",
      "728:\tlearn: 0.0669315\ttotal: 1.63s\tremaining: 606ms\n",
      "729:\tlearn: 0.0669263\ttotal: 1.63s\tremaining: 604ms\n",
      "730:\tlearn: 0.0669242\ttotal: 1.63s\tremaining: 601ms\n",
      "731:\tlearn: 0.0669223\ttotal: 1.64s\tremaining: 599ms\n",
      "732:\tlearn: 0.0669189\ttotal: 1.64s\tremaining: 597ms\n",
      "733:\tlearn: 0.0669167\ttotal: 1.64s\tremaining: 595ms\n",
      "734:\tlearn: 0.0669149\ttotal: 1.64s\tremaining: 592ms\n",
      "735:\tlearn: 0.0669124\ttotal: 1.64s\tremaining: 590ms\n",
      "736:\tlearn: 0.0669092\ttotal: 1.65s\tremaining: 588ms\n",
      "737:\tlearn: 0.0669057\ttotal: 1.65s\tremaining: 585ms\n",
      "738:\tlearn: 0.0669019\ttotal: 1.65s\tremaining: 583ms\n",
      "739:\tlearn: 0.0669002\ttotal: 1.65s\tremaining: 581ms\n",
      "740:\tlearn: 0.0668978\ttotal: 1.65s\tremaining: 578ms\n",
      "741:\tlearn: 0.0668945\ttotal: 1.66s\tremaining: 576ms\n",
      "742:\tlearn: 0.0668923\ttotal: 1.66s\tremaining: 574ms\n",
      "743:\tlearn: 0.0668886\ttotal: 1.66s\tremaining: 571ms\n",
      "744:\tlearn: 0.0668853\ttotal: 1.66s\tremaining: 569ms\n",
      "745:\tlearn: 0.0668837\ttotal: 1.66s\tremaining: 567ms\n",
      "746:\tlearn: 0.0668826\ttotal: 1.67s\tremaining: 564ms\n",
      "747:\tlearn: 0.0668806\ttotal: 1.67s\tremaining: 562ms\n",
      "748:\tlearn: 0.0668792\ttotal: 1.67s\tremaining: 560ms\n",
      "749:\tlearn: 0.0668779\ttotal: 1.67s\tremaining: 557ms\n",
      "750:\tlearn: 0.0668763\ttotal: 1.67s\tremaining: 555ms\n",
      "751:\tlearn: 0.0668743\ttotal: 1.68s\tremaining: 553ms\n",
      "752:\tlearn: 0.0668728\ttotal: 1.68s\tremaining: 550ms\n",
      "753:\tlearn: 0.0668707\ttotal: 1.68s\tremaining: 548ms\n",
      "754:\tlearn: 0.0668679\ttotal: 1.68s\tremaining: 546ms\n",
      "755:\tlearn: 0.0668653\ttotal: 1.68s\tremaining: 544ms\n",
      "756:\tlearn: 0.0668621\ttotal: 1.69s\tremaining: 542ms\n",
      "757:\tlearn: 0.0668590\ttotal: 1.69s\tremaining: 539ms\n",
      "758:\tlearn: 0.0668577\ttotal: 1.69s\tremaining: 537ms\n",
      "759:\tlearn: 0.0668546\ttotal: 1.69s\tremaining: 535ms\n",
      "760:\tlearn: 0.0668532\ttotal: 1.7s\tremaining: 532ms\n",
      "761:\tlearn: 0.0668479\ttotal: 1.7s\tremaining: 530ms\n",
      "762:\tlearn: 0.0668423\ttotal: 1.7s\tremaining: 528ms\n",
      "763:\tlearn: 0.0668393\ttotal: 1.7s\tremaining: 526ms\n",
      "764:\tlearn: 0.0668383\ttotal: 1.7s\tremaining: 524ms\n",
      "765:\tlearn: 0.0668369\ttotal: 1.71s\tremaining: 521ms\n",
      "766:\tlearn: 0.0668344\ttotal: 1.71s\tremaining: 519ms\n",
      "767:\tlearn: 0.0668320\ttotal: 1.71s\tremaining: 517ms\n",
      "768:\tlearn: 0.0668298\ttotal: 1.71s\tremaining: 515ms\n",
      "769:\tlearn: 0.0668276\ttotal: 1.72s\tremaining: 513ms\n",
      "770:\tlearn: 0.0668265\ttotal: 1.72s\tremaining: 510ms\n",
      "771:\tlearn: 0.0668249\ttotal: 1.72s\tremaining: 508ms\n",
      "772:\tlearn: 0.0668199\ttotal: 1.72s\tremaining: 506ms\n",
      "773:\tlearn: 0.0668173\ttotal: 1.72s\tremaining: 503ms\n",
      "774:\tlearn: 0.0668142\ttotal: 1.73s\tremaining: 501ms\n",
      "775:\tlearn: 0.0668124\ttotal: 1.73s\tremaining: 499ms\n",
      "776:\tlearn: 0.0668096\ttotal: 1.73s\tremaining: 496ms\n",
      "777:\tlearn: 0.0668077\ttotal: 1.73s\tremaining: 494ms\n",
      "778:\tlearn: 0.0668052\ttotal: 1.73s\tremaining: 492ms\n",
      "779:\tlearn: 0.0668031\ttotal: 1.74s\tremaining: 490ms\n",
      "780:\tlearn: 0.0668000\ttotal: 1.74s\tremaining: 487ms\n",
      "781:\tlearn: 0.0667981\ttotal: 1.74s\tremaining: 485ms\n",
      "782:\tlearn: 0.0667970\ttotal: 1.74s\tremaining: 483ms\n",
      "783:\tlearn: 0.0667945\ttotal: 1.74s\tremaining: 481ms\n",
      "784:\tlearn: 0.0667904\ttotal: 1.75s\tremaining: 478ms\n",
      "785:\tlearn: 0.0667888\ttotal: 1.75s\tremaining: 476ms\n",
      "786:\tlearn: 0.0667861\ttotal: 1.75s\tremaining: 474ms\n",
      "787:\tlearn: 0.0667829\ttotal: 1.75s\tremaining: 472ms\n",
      "788:\tlearn: 0.0667808\ttotal: 1.76s\tremaining: 470ms\n",
      "789:\tlearn: 0.0667787\ttotal: 1.76s\tremaining: 467ms\n",
      "790:\tlearn: 0.0667771\ttotal: 1.76s\tremaining: 465ms\n",
      "791:\tlearn: 0.0667762\ttotal: 1.76s\tremaining: 463ms\n",
      "792:\tlearn: 0.0667738\ttotal: 1.76s\tremaining: 461ms\n",
      "793:\tlearn: 0.0667700\ttotal: 1.77s\tremaining: 459ms\n",
      "794:\tlearn: 0.0667671\ttotal: 1.77s\tremaining: 456ms\n",
      "795:\tlearn: 0.0667643\ttotal: 1.77s\tremaining: 454ms\n",
      "796:\tlearn: 0.0667592\ttotal: 1.77s\tremaining: 452ms\n",
      "797:\tlearn: 0.0667570\ttotal: 1.78s\tremaining: 450ms\n",
      "798:\tlearn: 0.0667552\ttotal: 1.78s\tremaining: 448ms\n",
      "799:\tlearn: 0.0667528\ttotal: 1.78s\tremaining: 446ms\n",
      "800:\tlearn: 0.0667507\ttotal: 1.78s\tremaining: 443ms\n",
      "801:\tlearn: 0.0667493\ttotal: 1.79s\tremaining: 441ms\n",
      "802:\tlearn: 0.0667473\ttotal: 1.79s\tremaining: 439ms\n",
      "803:\tlearn: 0.0667426\ttotal: 1.79s\tremaining: 436ms\n",
      "804:\tlearn: 0.0667415\ttotal: 1.79s\tremaining: 434ms\n",
      "805:\tlearn: 0.0667396\ttotal: 1.79s\tremaining: 432ms\n",
      "806:\tlearn: 0.0667382\ttotal: 1.8s\tremaining: 430ms\n",
      "807:\tlearn: 0.0667349\ttotal: 1.8s\tremaining: 427ms\n",
      "808:\tlearn: 0.0667332\ttotal: 1.8s\tremaining: 425ms\n",
      "809:\tlearn: 0.0667314\ttotal: 1.8s\tremaining: 423ms\n",
      "810:\tlearn: 0.0667295\ttotal: 1.8s\tremaining: 420ms\n",
      "811:\tlearn: 0.0667254\ttotal: 1.81s\tremaining: 418ms\n",
      "812:\tlearn: 0.0667219\ttotal: 1.81s\tremaining: 416ms\n",
      "813:\tlearn: 0.0667174\ttotal: 1.81s\tremaining: 414ms\n",
      "814:\tlearn: 0.0667140\ttotal: 1.81s\tremaining: 411ms\n",
      "815:\tlearn: 0.0667114\ttotal: 1.81s\tremaining: 409ms\n",
      "816:\tlearn: 0.0667086\ttotal: 1.82s\tremaining: 407ms\n",
      "817:\tlearn: 0.0667063\ttotal: 1.82s\tremaining: 405ms\n",
      "818:\tlearn: 0.0667047\ttotal: 1.82s\tremaining: 402ms\n",
      "819:\tlearn: 0.0667018\ttotal: 1.82s\tremaining: 400ms\n",
      "820:\tlearn: 0.0666994\ttotal: 1.82s\tremaining: 398ms\n",
      "821:\tlearn: 0.0666949\ttotal: 1.83s\tremaining: 395ms\n",
      "822:\tlearn: 0.0666939\ttotal: 1.83s\tremaining: 393ms\n",
      "823:\tlearn: 0.0666902\ttotal: 1.83s\tremaining: 391ms\n",
      "824:\tlearn: 0.0666866\ttotal: 1.83s\tremaining: 389ms\n",
      "825:\tlearn: 0.0666847\ttotal: 1.83s\tremaining: 386ms\n",
      "826:\tlearn: 0.0666784\ttotal: 1.84s\tremaining: 384ms\n",
      "827:\tlearn: 0.0666748\ttotal: 1.84s\tremaining: 382ms\n",
      "828:\tlearn: 0.0666688\ttotal: 1.84s\tremaining: 380ms\n",
      "829:\tlearn: 0.0666671\ttotal: 1.84s\tremaining: 377ms\n",
      "830:\tlearn: 0.0666660\ttotal: 1.84s\tremaining: 375ms\n",
      "831:\tlearn: 0.0666628\ttotal: 1.85s\tremaining: 373ms\n",
      "832:\tlearn: 0.0666606\ttotal: 1.85s\tremaining: 371ms\n",
      "833:\tlearn: 0.0666592\ttotal: 1.85s\tremaining: 368ms\n",
      "834:\tlearn: 0.0666579\ttotal: 1.85s\tremaining: 366ms\n",
      "835:\tlearn: 0.0666571\ttotal: 1.85s\tremaining: 364ms\n",
      "836:\tlearn: 0.0666549\ttotal: 1.86s\tremaining: 361ms\n",
      "837:\tlearn: 0.0666526\ttotal: 1.86s\tremaining: 359ms\n",
      "838:\tlearn: 0.0666487\ttotal: 1.86s\tremaining: 357ms\n",
      "839:\tlearn: 0.0666451\ttotal: 1.86s\tremaining: 355ms\n",
      "840:\tlearn: 0.0666433\ttotal: 1.86s\tremaining: 352ms\n",
      "841:\tlearn: 0.0666410\ttotal: 1.87s\tremaining: 350ms\n",
      "842:\tlearn: 0.0666402\ttotal: 1.87s\tremaining: 348ms\n",
      "843:\tlearn: 0.0666366\ttotal: 1.87s\tremaining: 346ms\n",
      "844:\tlearn: 0.0666317\ttotal: 1.87s\tremaining: 343ms\n",
      "845:\tlearn: 0.0666291\ttotal: 1.87s\tremaining: 341ms\n",
      "846:\tlearn: 0.0666263\ttotal: 1.88s\tremaining: 339ms\n",
      "847:\tlearn: 0.0666218\ttotal: 1.88s\tremaining: 337ms\n",
      "848:\tlearn: 0.0666205\ttotal: 1.88s\tremaining: 334ms\n",
      "849:\tlearn: 0.0666169\ttotal: 1.88s\tremaining: 332ms\n",
      "850:\tlearn: 0.0666134\ttotal: 1.88s\tremaining: 330ms\n"
     ]
    },
    {
     "name": "stdout",
     "output_type": "stream",
     "text": [
      "851:\tlearn: 0.0666071\ttotal: 1.89s\tremaining: 328ms\n",
      "852:\tlearn: 0.0666050\ttotal: 1.89s\tremaining: 325ms\n",
      "853:\tlearn: 0.0666029\ttotal: 1.89s\tremaining: 323ms\n",
      "854:\tlearn: 0.0666009\ttotal: 1.89s\tremaining: 321ms\n",
      "855:\tlearn: 0.0665969\ttotal: 1.89s\tremaining: 319ms\n",
      "856:\tlearn: 0.0665945\ttotal: 1.9s\tremaining: 316ms\n",
      "857:\tlearn: 0.0665908\ttotal: 1.9s\tremaining: 314ms\n",
      "858:\tlearn: 0.0665842\ttotal: 1.9s\tremaining: 312ms\n",
      "859:\tlearn: 0.0665813\ttotal: 1.9s\tremaining: 310ms\n",
      "860:\tlearn: 0.0665782\ttotal: 1.9s\tremaining: 307ms\n",
      "861:\tlearn: 0.0665749\ttotal: 1.91s\tremaining: 305ms\n",
      "862:\tlearn: 0.0665734\ttotal: 1.91s\tremaining: 303ms\n",
      "863:\tlearn: 0.0665714\ttotal: 1.91s\tremaining: 301ms\n",
      "864:\tlearn: 0.0665698\ttotal: 1.91s\tremaining: 298ms\n",
      "865:\tlearn: 0.0665627\ttotal: 1.91s\tremaining: 296ms\n",
      "866:\tlearn: 0.0665599\ttotal: 1.92s\tremaining: 294ms\n",
      "867:\tlearn: 0.0665572\ttotal: 1.92s\tremaining: 292ms\n",
      "868:\tlearn: 0.0665540\ttotal: 1.92s\tremaining: 289ms\n",
      "869:\tlearn: 0.0665521\ttotal: 1.92s\tremaining: 287ms\n",
      "870:\tlearn: 0.0665508\ttotal: 1.92s\tremaining: 285ms\n",
      "871:\tlearn: 0.0665496\ttotal: 1.93s\tremaining: 283ms\n",
      "872:\tlearn: 0.0665451\ttotal: 1.93s\tremaining: 280ms\n",
      "873:\tlearn: 0.0665401\ttotal: 1.93s\tremaining: 278ms\n",
      "874:\tlearn: 0.0665368\ttotal: 1.93s\tremaining: 276ms\n",
      "875:\tlearn: 0.0665353\ttotal: 1.93s\tremaining: 274ms\n",
      "876:\tlearn: 0.0665333\ttotal: 1.94s\tremaining: 272ms\n",
      "877:\tlearn: 0.0665302\ttotal: 1.94s\tremaining: 269ms\n",
      "878:\tlearn: 0.0665274\ttotal: 1.94s\tremaining: 267ms\n",
      "879:\tlearn: 0.0665216\ttotal: 1.94s\tremaining: 265ms\n",
      "880:\tlearn: 0.0665194\ttotal: 1.95s\tremaining: 263ms\n",
      "881:\tlearn: 0.0665157\ttotal: 1.95s\tremaining: 261ms\n",
      "882:\tlearn: 0.0665109\ttotal: 1.95s\tremaining: 258ms\n",
      "883:\tlearn: 0.0665098\ttotal: 1.95s\tremaining: 256ms\n",
      "884:\tlearn: 0.0665079\ttotal: 1.95s\tremaining: 254ms\n",
      "885:\tlearn: 0.0665041\ttotal: 1.96s\tremaining: 252ms\n",
      "886:\tlearn: 0.0665000\ttotal: 1.96s\tremaining: 250ms\n",
      "887:\tlearn: 0.0664986\ttotal: 1.96s\tremaining: 247ms\n",
      "888:\tlearn: 0.0664971\ttotal: 1.96s\tremaining: 245ms\n",
      "889:\tlearn: 0.0664950\ttotal: 1.97s\tremaining: 243ms\n",
      "890:\tlearn: 0.0664929\ttotal: 1.97s\tremaining: 241ms\n",
      "891:\tlearn: 0.0664881\ttotal: 1.97s\tremaining: 238ms\n",
      "892:\tlearn: 0.0664871\ttotal: 1.97s\tremaining: 236ms\n",
      "893:\tlearn: 0.0664844\ttotal: 1.97s\tremaining: 234ms\n",
      "894:\tlearn: 0.0664817\ttotal: 1.98s\tremaining: 232ms\n",
      "895:\tlearn: 0.0664786\ttotal: 1.98s\tremaining: 230ms\n",
      "896:\tlearn: 0.0664767\ttotal: 1.98s\tremaining: 227ms\n",
      "897:\tlearn: 0.0664736\ttotal: 1.98s\tremaining: 225ms\n",
      "898:\tlearn: 0.0664707\ttotal: 1.98s\tremaining: 223ms\n",
      "899:\tlearn: 0.0664680\ttotal: 1.99s\tremaining: 221ms\n",
      "900:\tlearn: 0.0664657\ttotal: 1.99s\tremaining: 218ms\n",
      "901:\tlearn: 0.0664638\ttotal: 1.99s\tremaining: 216ms\n",
      "902:\tlearn: 0.0664626\ttotal: 1.99s\tremaining: 214ms\n",
      "903:\tlearn: 0.0664570\ttotal: 2s\tremaining: 212ms\n",
      "904:\tlearn: 0.0664549\ttotal: 2s\tremaining: 210ms\n",
      "905:\tlearn: 0.0664526\ttotal: 2s\tremaining: 207ms\n",
      "906:\tlearn: 0.0664507\ttotal: 2s\tremaining: 205ms\n",
      "907:\tlearn: 0.0664479\ttotal: 2s\tremaining: 203ms\n",
      "908:\tlearn: 0.0664449\ttotal: 2s\tremaining: 201ms\n",
      "909:\tlearn: 0.0664415\ttotal: 2.01s\tremaining: 199ms\n",
      "910:\tlearn: 0.0664396\ttotal: 2.01s\tremaining: 196ms\n",
      "911:\tlearn: 0.0664333\ttotal: 2.01s\tremaining: 194ms\n",
      "912:\tlearn: 0.0664302\ttotal: 2.01s\tremaining: 192ms\n",
      "913:\tlearn: 0.0664270\ttotal: 2.02s\tremaining: 190ms\n",
      "914:\tlearn: 0.0664239\ttotal: 2.02s\tremaining: 188ms\n",
      "915:\tlearn: 0.0664220\ttotal: 2.02s\tremaining: 185ms\n",
      "916:\tlearn: 0.0664204\ttotal: 2.02s\tremaining: 183ms\n",
      "917:\tlearn: 0.0664193\ttotal: 2.02s\tremaining: 181ms\n",
      "918:\tlearn: 0.0664153\ttotal: 2.03s\tremaining: 179ms\n",
      "919:\tlearn: 0.0664136\ttotal: 2.03s\tremaining: 177ms\n",
      "920:\tlearn: 0.0664119\ttotal: 2.03s\tremaining: 174ms\n",
      "921:\tlearn: 0.0664094\ttotal: 2.03s\tremaining: 172ms\n",
      "922:\tlearn: 0.0664084\ttotal: 2.04s\tremaining: 170ms\n",
      "923:\tlearn: 0.0664059\ttotal: 2.04s\tremaining: 168ms\n",
      "924:\tlearn: 0.0664034\ttotal: 2.04s\tremaining: 165ms\n",
      "925:\tlearn: 0.0664005\ttotal: 2.04s\tremaining: 163ms\n",
      "926:\tlearn: 0.0663983\ttotal: 2.04s\tremaining: 161ms\n",
      "927:\tlearn: 0.0663971\ttotal: 2.05s\tremaining: 159ms\n",
      "928:\tlearn: 0.0663917\ttotal: 2.05s\tremaining: 157ms\n",
      "929:\tlearn: 0.0663867\ttotal: 2.05s\tremaining: 154ms\n",
      "930:\tlearn: 0.0663842\ttotal: 2.05s\tremaining: 152ms\n",
      "931:\tlearn: 0.0663809\ttotal: 2.05s\tremaining: 150ms\n",
      "932:\tlearn: 0.0663776\ttotal: 2.06s\tremaining: 148ms\n",
      "933:\tlearn: 0.0663745\ttotal: 2.06s\tremaining: 146ms\n",
      "934:\tlearn: 0.0663721\ttotal: 2.06s\tremaining: 143ms\n",
      "935:\tlearn: 0.0663649\ttotal: 2.06s\tremaining: 141ms\n",
      "936:\tlearn: 0.0663623\ttotal: 2.06s\tremaining: 139ms\n",
      "937:\tlearn: 0.0663576\ttotal: 2.07s\tremaining: 137ms\n",
      "938:\tlearn: 0.0663537\ttotal: 2.07s\tremaining: 134ms\n",
      "939:\tlearn: 0.0663486\ttotal: 2.07s\tremaining: 132ms\n",
      "940:\tlearn: 0.0663462\ttotal: 2.07s\tremaining: 130ms\n",
      "941:\tlearn: 0.0663447\ttotal: 2.07s\tremaining: 128ms\n",
      "942:\tlearn: 0.0663413\ttotal: 2.08s\tremaining: 126ms\n",
      "943:\tlearn: 0.0663394\ttotal: 2.08s\tremaining: 123ms\n",
      "944:\tlearn: 0.0663369\ttotal: 2.08s\tremaining: 121ms\n",
      "945:\tlearn: 0.0663332\ttotal: 2.08s\tremaining: 119ms\n",
      "946:\tlearn: 0.0663305\ttotal: 2.08s\tremaining: 117ms\n",
      "947:\tlearn: 0.0663267\ttotal: 2.09s\tremaining: 114ms\n",
      "948:\tlearn: 0.0663255\ttotal: 2.09s\tremaining: 112ms\n",
      "949:\tlearn: 0.0663223\ttotal: 2.09s\tremaining: 110ms\n",
      "950:\tlearn: 0.0663205\ttotal: 2.09s\tremaining: 108ms\n",
      "951:\tlearn: 0.0663177\ttotal: 2.09s\tremaining: 106ms\n",
      "952:\tlearn: 0.0663161\ttotal: 2.1s\tremaining: 103ms\n",
      "953:\tlearn: 0.0663136\ttotal: 2.1s\tremaining: 101ms\n",
      "954:\tlearn: 0.0663124\ttotal: 2.1s\tremaining: 99ms\n",
      "955:\tlearn: 0.0663091\ttotal: 2.1s\tremaining: 96.8ms\n",
      "956:\tlearn: 0.0663081\ttotal: 2.1s\tremaining: 94.6ms\n",
      "957:\tlearn: 0.0663068\ttotal: 2.11s\tremaining: 92.4ms\n",
      "958:\tlearn: 0.0663023\ttotal: 2.11s\tremaining: 90.2ms\n",
      "959:\tlearn: 0.0662996\ttotal: 2.11s\tremaining: 88ms\n",
      "960:\tlearn: 0.0662940\ttotal: 2.11s\tremaining: 85.8ms\n",
      "961:\tlearn: 0.0662894\ttotal: 2.12s\tremaining: 83.6ms\n",
      "962:\tlearn: 0.0662888\ttotal: 2.12s\tremaining: 81.4ms\n",
      "963:\tlearn: 0.0662874\ttotal: 2.12s\tremaining: 79.2ms\n",
      "964:\tlearn: 0.0662823\ttotal: 2.12s\tremaining: 77ms\n",
      "965:\tlearn: 0.0662803\ttotal: 2.12s\tremaining: 74.8ms\n",
      "966:\tlearn: 0.0662776\ttotal: 2.13s\tremaining: 72.6ms\n",
      "967:\tlearn: 0.0662737\ttotal: 2.13s\tremaining: 70.4ms\n",
      "968:\tlearn: 0.0662701\ttotal: 2.13s\tremaining: 68.2ms\n",
      "969:\tlearn: 0.0662674\ttotal: 2.13s\tremaining: 66ms\n",
      "970:\tlearn: 0.0662641\ttotal: 2.13s\tremaining: 63.8ms\n",
      "971:\tlearn: 0.0662620\ttotal: 2.14s\tremaining: 61.5ms\n",
      "972:\tlearn: 0.0662612\ttotal: 2.14s\tremaining: 59.3ms\n",
      "973:\tlearn: 0.0662549\ttotal: 2.14s\tremaining: 57.1ms\n",
      "974:\tlearn: 0.0662495\ttotal: 2.14s\tremaining: 54.9ms\n",
      "975:\tlearn: 0.0662465\ttotal: 2.14s\tremaining: 52.7ms\n",
      "976:\tlearn: 0.0662452\ttotal: 2.15s\tremaining: 50.5ms\n",
      "977:\tlearn: 0.0662435\ttotal: 2.15s\tremaining: 48.3ms\n",
      "978:\tlearn: 0.0662423\ttotal: 2.15s\tremaining: 46.1ms\n",
      "979:\tlearn: 0.0662388\ttotal: 2.15s\tremaining: 43.9ms\n",
      "980:\tlearn: 0.0662349\ttotal: 2.15s\tremaining: 41.7ms\n",
      "981:\tlearn: 0.0662336\ttotal: 2.16s\tremaining: 39.5ms\n",
      "982:\tlearn: 0.0662314\ttotal: 2.16s\tremaining: 37.3ms\n",
      "983:\tlearn: 0.0662301\ttotal: 2.16s\tremaining: 35.1ms\n",
      "984:\tlearn: 0.0662278\ttotal: 2.16s\tremaining: 32.9ms\n",
      "985:\tlearn: 0.0662258\ttotal: 2.16s\tremaining: 30.7ms\n",
      "986:\tlearn: 0.0662229\ttotal: 2.17s\tremaining: 28.5ms\n",
      "987:\tlearn: 0.0662179\ttotal: 2.17s\tremaining: 26.3ms\n",
      "988:\tlearn: 0.0662157\ttotal: 2.17s\tremaining: 24.1ms\n",
      "989:\tlearn: 0.0662132\ttotal: 2.17s\tremaining: 22ms\n",
      "990:\tlearn: 0.0662099\ttotal: 2.17s\tremaining: 19.8ms\n",
      "991:\tlearn: 0.0662079\ttotal: 2.18s\tremaining: 17.6ms\n",
      "992:\tlearn: 0.0662059\ttotal: 2.18s\tremaining: 15.4ms\n",
      "993:\tlearn: 0.0662036\ttotal: 2.18s\tremaining: 13.2ms\n",
      "994:\tlearn: 0.0662005\ttotal: 2.18s\tremaining: 11ms\n",
      "995:\tlearn: 0.0661993\ttotal: 2.19s\tremaining: 8.78ms\n",
      "996:\tlearn: 0.0661952\ttotal: 2.19s\tremaining: 6.58ms\n",
      "997:\tlearn: 0.0661935\ttotal: 2.19s\tremaining: 4.39ms\n",
      "998:\tlearn: 0.0661920\ttotal: 2.19s\tremaining: 2.19ms\n",
      "999:\tlearn: 0.0661915\ttotal: 2.19s\tremaining: 0us\n"
     ]
    },
    {
     "data": {
      "text/plain": [
       "<catboost.core.CatBoostRegressor at 0x1d5fc3e2640>"
      ]
     },
     "execution_count": 45,
     "metadata": {},
     "output_type": "execute_result"
    }
   ],
   "source": [
    "from catboost import CatBoostRegressor\n",
    "\n",
    "# Initialize the CatBoost Regressor\n",
    "model = CatBoostRegressor()\n",
    "\n",
    "# Train the model\n",
    "model.fit(x_train, y_train)"
   ]
  },
  {
   "cell_type": "code",
   "execution_count": 46,
   "id": "588f5d68",
   "metadata": {},
   "outputs": [
    {
     "name": "stdout",
     "output_type": "stream",
     "text": [
      "Mean Absolute Error: 0.0493342841236395\n"
     ]
    }
   ],
   "source": [
    "from sklearn.metrics import mean_absolute_error\n",
    "y_pred=model.predict(x_train)\n",
    "# Assuming y_true contains the true values and y_pred contains the predicted values\n",
    "mae = mean_absolute_error(y_train, y_pred)\n",
    "print(\"Mean Absolute Error:\", mae)\n"
   ]
  },
  {
   "cell_type": "code",
   "execution_count": 47,
   "id": "8ba53219",
   "metadata": {},
   "outputs": [
    {
     "name": "stdout",
     "output_type": "stream",
     "text": [
      "R Squared error: 0.8837527550310653\n"
     ]
    }
   ],
   "source": [
    "#Evaluating trainiong data\n",
    "x_training_data=model.predict(x_train)\n",
    "error_score=metrics.r2_score(y_train,x_training_data)\n",
    "print(\"R Squared error:\",error_score)"
   ]
  },
  {
   "cell_type": "code",
   "execution_count": 48,
   "id": "d2d52ced",
   "metadata": {},
   "outputs": [
    {
     "data": {
      "image/png": "[encoded data removed]",
      "text/plain": [
       "<Figure size 432x288 with 1 Axes>"
      ]
     },
     "metadata": {
      "needs_background": "light"
     },
     "output_type": "display_data"
    }
   ],
   "source": [
    "import matplotlib.pyplot as plt\n",
    "\n",
    "# Assuming y_true contains the true values and y_pred contains the predicted values\n",
    "plt.scatter(y_train, y_pred, color='g', label='Predicted')  # Predicted values are plotted in blue\n",
    "plt.scatter(y_train, y_train, color='r', label='Actual')  # Actual values are plotted in red\n",
    "plt.xlabel('True Values')\n",
    "plt.ylabel('Predicted Values')\n",
    "plt.title('Regression Model Performance of CatBoost Regressor')\n",
    "plt.legend()\n",
    "plt.show()\n"
   ]
  },
  {
   "cell_type": "markdown",
   "id": "04ffb018",
   "metadata": {},
   "source": [
    "# Building a Predictive System"
   ]
  },
  {
   "cell_type": "code",
   "execution_count": 49,
   "id": "6444fffa",
   "metadata": {},
   "outputs": [
    {
     "name": "stdout",
     "output_type": "stream",
     "text": [
      "The burn Rate of the given Employee is: [0.25121491]\n"
     ]
    }
   ],
   "source": [
    "input_data=(0,1,0,2.0,3.000000,3.800000)\n",
    "input_data_as_numpy_array=np.array(input_data)\n",
    "input_data_reshaped=input_data_as_numpy_array.reshape(1,-1)\n",
    "prediction=model.predict(input_data_reshaped)\n",
    "print(\"The burn Rate of the given Employee is:\",prediction)"
   ]
  },
  {
   "cell_type": "markdown",
   "id": "ff572dc2",
   "metadata": {},
   "source": [
    "# Saving the Trained Model"
   ]
  },
  {
   "cell_type": "code",
   "execution_count": 50,
   "id": "3eccf3f7",
   "metadata": {},
   "outputs": [],
   "source": [
    "import pickle"
   ]
  },
  {
   "cell_type": "code",
   "execution_count": 51,
   "id": "577f53e9",
   "metadata": {},
   "outputs": [],
   "source": [
    "filename=\"EmployeeBurnOutData_model.sav\"\n",
    "pickle.dump(lr,open(filename,'wb'))"
   ]
  },
  {
   "cell_type": "code",
   "execution_count": 52,
   "id": "a8ef753c",
   "metadata": {},
   "outputs": [],
   "source": [
    "#loading the saved model\n",
    "loaded_model=pickle.load(open(\"EmployeeBurnOutData_model.sav\",'rb'))"
   ]
  },
  {
   "cell_type": "code",
   "execution_count": 53,
   "id": "487c82c4",
   "metadata": {},
   "outputs": [
    {
     "name": "stdout",
     "output_type": "stream",
     "text": [
      "The burn Rate of the given Employee is: [0.25121491]\n"
     ]
    }
   ],
   "source": [
    "input_data=(0,1,0,2.0,3.000000,3.800000)\n",
    "input_data_as_numpy_array=np.array(input_data)\n",
    "input_data_reshaped=input_data_as_numpy_array.reshape(1,-1)\n",
    "prediction=model.predict(input_data_reshaped)\n",
    "print(\"The burn Rate of the given Employee is:\",prediction)"
   ]
  },
  {
   "cell_type": "code",
   "execution_count": null,
   "id": "b1cab4f9",
   "metadata": {},
   "outputs": [],
   "source": []
  },
  {
   "cell_type": "code",
   "execution_count": null,
   "id": "90a15ea8",
   "metadata": {},
   "outputs": [],
   "source": []
  }
 ],
 "metadata": {
  "kernelspec": {
   "display_name": "Python 3 (ipykernel)",
   "language": "python",
   "name": "python3"
  },
  "language_info": {
   "codemirror_mode": {
    "name": "ipython",
    "version": 3
   },
   "file_extension": ".py",
   "mimetype": "text/x-python",
   "name": "python",
   "nbconvert_exporter": "python",
   "pygments_lexer": "ipython3",
   "version": "3.9.12"
  }
 },
 "nbformat": 4,
 "nbformat_minor": 5
}
